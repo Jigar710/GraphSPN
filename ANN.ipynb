{
 "cells": [
  {
   "cell_type": "code",
   "execution_count": 1,
   "id": "ba366537-da9c-42d1-90cc-4724dbbfd757",
   "metadata": {
    "executionInfo": {
     "elapsed": 11,
     "status": "ok",
     "timestamp": 1682699746993,
     "user": {
      "displayName": "2022 11004",
      "userId": "15982028115013975822"
     },
     "user_tz": -330
    },
    "id": "My49V1lqECxL"
   },
   "outputs": [
    {
     "name": "stderr",
     "output_type": "stream",
     "text": [
      "C:\\Users\\jigar\\AppData\\Local\\Programs\\Python\\Python37\\lib\\site-packages\\tqdm\\auto.py:22: TqdmWarning: IProgress not found. Please update jupyter and ipywidgets. See https://ipywidgets.readthedocs.io/en/stable/user_install.html\n",
      "  from .autonotebook import tqdm as notebook_tqdm\n"
     ]
    }
   ],
   "source": [
    "import pandas as pd\n",
    "import numpy as np\n",
    "from sklearn import preprocessing\n",
    "import scipy.sparse as sp\n",
    "import matplotlib.pyplot as plt\n",
    "import matplotlib.image as mpimg\n",
    "import seaborn as sns\n",
    "%matplotlib inline\n",
    "import igraph as ig\n",
    "import torch\n",
    "from torch import nn\n",
    "from torch.nn import functional as F\n",
    "from torch.nn import Parameter\n",
    "import torch.optim as optim\n",
    "import math\n",
    "import time\n",
    "sns.set_theme(style=\"whitegrid\", palette=\"pastel\")"
   ]
  },
  {
   "cell_type": "markdown",
   "id": "2ebecd15",
   "metadata": {},
   "source": [
    "### Loading Dataset"
   ]
  },
  {
   "cell_type": "code",
   "execution_count": 2,
   "id": "105c5778-d48a-4ca1-9667-fd517777c9f5",
   "metadata": {
    "colab": {
     "base_uri": "https://localhost:8080/",
     "height": 424
    },
    "executionInfo": {
     "elapsed": 2018,
     "status": "ok",
     "timestamp": 1682699749002,
     "user": {
      "displayName": "2022 11004",
      "userId": "15982028115013975822"
     },
     "user_tz": -330
    },
    "id": "LXzhWg06Cys6",
    "outputId": "a384db1c-d894-42bd-fb01-b24c798fc3f7"
   },
   "outputs": [
    {
     "data": {
      "text/html": [
       "<div>\n",
       "<style scoped>\n",
       "    .dataframe tbody tr th:only-of-type {\n",
       "        vertical-align: middle;\n",
       "    }\n",
       "\n",
       "    .dataframe tbody tr th {\n",
       "        vertical-align: top;\n",
       "    }\n",
       "\n",
       "    .dataframe thead th {\n",
       "        text-align: right;\n",
       "    }\n",
       "</style>\n",
       "<table border=\"1\" class=\"dataframe\">\n",
       "  <thead>\n",
       "    <tr style=\"text-align: right;\">\n",
       "      <th></th>\n",
       "      <th>node_id</th>\n",
       "      <th>placeholder</th>\n",
       "      <th>x</th>\n",
       "      <th>y</th>\n",
       "      <th>d1</th>\n",
       "      <th>d2</th>\n",
       "      <th>d3</th>\n",
       "      <th>d4</th>\n",
       "      <th>label</th>\n",
       "      <th>d5</th>\n",
       "      <th>...</th>\n",
       "      <th>view_num_7</th>\n",
       "      <th>new_neighbor_ID_0</th>\n",
       "      <th>new_neighbor_ID_1</th>\n",
       "      <th>new_neighbor_ID_2</th>\n",
       "      <th>new_neighbor_ID_3</th>\n",
       "      <th>new_neighbor_ID_4</th>\n",
       "      <th>new_neighbor_ID_5</th>\n",
       "      <th>new_neighbor_ID_6</th>\n",
       "      <th>new_neighbor_ID_7</th>\n",
       "      <th>locfloor</th>\n",
       "    </tr>\n",
       "  </thead>\n",
       "  <tbody>\n",
       "    <tr>\n",
       "      <th>0</th>\n",
       "      <td>0-floor4_1-Sto</td>\n",
       "      <td>0</td>\n",
       "      <td>-1.000001</td>\n",
       "      <td>-0.200001</td>\n",
       "      <td>-1.025785</td>\n",
       "      <td>-0.097851</td>\n",
       "      <td>-1.000001</td>\n",
       "      <td>-0.200001</td>\n",
       "      <td>EV</td>\n",
       "      <td>1.205846e+09</td>\n",
       "      <td>...</td>\n",
       "      <td>0</td>\n",
       "      <td>1-floor4_1-Sto</td>\n",
       "      <td>2-floor4_1-Sto</td>\n",
       "      <td>-1-floor4_1-Sto</td>\n",
       "      <td>-1-floor4_1-Sto</td>\n",
       "      <td>-1-floor4_1-Sto</td>\n",
       "      <td>-1-floor4_1-Sto</td>\n",
       "      <td>-1-floor4_1-Sto</td>\n",
       "      <td>-1-floor4_1-Sto</td>\n",
       "      <td>Stockholm-floor4</td>\n",
       "    </tr>\n",
       "    <tr>\n",
       "      <th>1</th>\n",
       "      <td>1-floor4_1-Sto</td>\n",
       "      <td>0</td>\n",
       "      <td>-0.140001</td>\n",
       "      <td>0.259999</td>\n",
       "      <td>-0.303640</td>\n",
       "      <td>-0.002786</td>\n",
       "      <td>-0.200001</td>\n",
       "      <td>0.599999</td>\n",
       "      <td>EV</td>\n",
       "      <td>1.205846e+09</td>\n",
       "      <td>...</td>\n",
       "      <td>0</td>\n",
       "      <td>0-floor4_1-Sto</td>\n",
       "      <td>-1-floor4_1-Sto</td>\n",
       "      <td>-1-floor4_1-Sto</td>\n",
       "      <td>-1-floor4_1-Sto</td>\n",
       "      <td>-1-floor4_1-Sto</td>\n",
       "      <td>-1-floor4_1-Sto</td>\n",
       "      <td>-1-floor4_1-Sto</td>\n",
       "      <td>-1-floor4_1-Sto</td>\n",
       "      <td>Stockholm-floor4</td>\n",
       "    </tr>\n",
       "    <tr>\n",
       "      <th>2</th>\n",
       "      <td>2-floor4_1-Sto</td>\n",
       "      <td>0</td>\n",
       "      <td>-2.020001</td>\n",
       "      <td>-0.080001</td>\n",
       "      <td>-2.015833</td>\n",
       "      <td>-0.073241</td>\n",
       "      <td>-1.800001</td>\n",
       "      <td>-0.200001</td>\n",
       "      <td>DW</td>\n",
       "      <td>1.205846e+09</td>\n",
       "      <td>...</td>\n",
       "      <td>1</td>\n",
       "      <td>0-floor4_1-Sto</td>\n",
       "      <td>3-floor4_1-Sto</td>\n",
       "      <td>4-floor4_1-Sto</td>\n",
       "      <td>-1-floor4_1-Sto</td>\n",
       "      <td>-1-floor4_1-Sto</td>\n",
       "      <td>-1-floor4_1-Sto</td>\n",
       "      <td>-1-floor4_1-Sto</td>\n",
       "      <td>-1-floor4_1-Sto</td>\n",
       "      <td>Stockholm-floor4</td>\n",
       "    </tr>\n",
       "    <tr>\n",
       "      <th>3</th>\n",
       "      <td>3-floor4_1-Sto</td>\n",
       "      <td>0</td>\n",
       "      <td>-2.860001</td>\n",
       "      <td>0.499999</td>\n",
       "      <td>-3.019827</td>\n",
       "      <td>0.500790</td>\n",
       "      <td>-2.600001</td>\n",
       "      <td>0.599999</td>\n",
       "      <td>CR</td>\n",
       "      <td>1.205846e+09</td>\n",
       "      <td>...</td>\n",
       "      <td>0</td>\n",
       "      <td>2-floor4_1-Sto</td>\n",
       "      <td>4-floor4_1-Sto</td>\n",
       "      <td>6-floor4_1-Sto</td>\n",
       "      <td>9-floor4_1-Sto</td>\n",
       "      <td>-1-floor4_1-Sto</td>\n",
       "      <td>-1-floor4_1-Sto</td>\n",
       "      <td>-1-floor4_1-Sto</td>\n",
       "      <td>-1-floor4_1-Sto</td>\n",
       "      <td>Stockholm-floor4</td>\n",
       "    </tr>\n",
       "    <tr>\n",
       "      <th>4</th>\n",
       "      <td>4-floor4_1-Sto</td>\n",
       "      <td>0</td>\n",
       "      <td>-2.820001</td>\n",
       "      <td>-0.500001</td>\n",
       "      <td>-2.986465</td>\n",
       "      <td>-0.450972</td>\n",
       "      <td>-2.600001</td>\n",
       "      <td>-0.200001</td>\n",
       "      <td>CR</td>\n",
       "      <td>1.205846e+09</td>\n",
       "      <td>...</td>\n",
       "      <td>1</td>\n",
       "      <td>2-floor4_1-Sto</td>\n",
       "      <td>3-floor4_1-Sto</td>\n",
       "      <td>5-floor4_1-Sto</td>\n",
       "      <td>6-floor4_1-Sto</td>\n",
       "      <td>-1-floor4_1-Sto</td>\n",
       "      <td>-1-floor4_1-Sto</td>\n",
       "      <td>-1-floor4_1-Sto</td>\n",
       "      <td>-1-floor4_1-Sto</td>\n",
       "      <td>Stockholm-floor4</td>\n",
       "    </tr>\n",
       "  </tbody>\n",
       "</table>\n",
       "<p>5 rows × 43 columns</p>\n",
       "</div>"
      ],
      "text/plain": [
       "          node_id  placeholder         x         y        d1        d2  \\\n",
       "0  0-floor4_1-Sto            0 -1.000001 -0.200001 -1.025785 -0.097851   \n",
       "1  1-floor4_1-Sto            0 -0.140001  0.259999 -0.303640 -0.002786   \n",
       "2  2-floor4_1-Sto            0 -2.020001 -0.080001 -2.015833 -0.073241   \n",
       "3  3-floor4_1-Sto            0 -2.860001  0.499999 -3.019827  0.500790   \n",
       "4  4-floor4_1-Sto            0 -2.820001 -0.500001 -2.986465 -0.450972   \n",
       "\n",
       "         d3        d4 label            d5  ...  view_num_7  new_neighbor_ID_0  \\\n",
       "0 -1.000001 -0.200001    EV  1.205846e+09  ...           0     1-floor4_1-Sto   \n",
       "1 -0.200001  0.599999    EV  1.205846e+09  ...           0     0-floor4_1-Sto   \n",
       "2 -1.800001 -0.200001    DW  1.205846e+09  ...           1     0-floor4_1-Sto   \n",
       "3 -2.600001  0.599999    CR  1.205846e+09  ...           0     2-floor4_1-Sto   \n",
       "4 -2.600001 -0.200001    CR  1.205846e+09  ...           1     2-floor4_1-Sto   \n",
       "\n",
       "   new_neighbor_ID_1  new_neighbor_ID_2  new_neighbor_ID_3  new_neighbor_ID_4  \\\n",
       "0     2-floor4_1-Sto    -1-floor4_1-Sto    -1-floor4_1-Sto    -1-floor4_1-Sto   \n",
       "1    -1-floor4_1-Sto    -1-floor4_1-Sto    -1-floor4_1-Sto    -1-floor4_1-Sto   \n",
       "2     3-floor4_1-Sto     4-floor4_1-Sto    -1-floor4_1-Sto    -1-floor4_1-Sto   \n",
       "3     4-floor4_1-Sto     6-floor4_1-Sto     9-floor4_1-Sto    -1-floor4_1-Sto   \n",
       "4     3-floor4_1-Sto     5-floor4_1-Sto     6-floor4_1-Sto    -1-floor4_1-Sto   \n",
       "\n",
       "   new_neighbor_ID_5  new_neighbor_ID_6  new_neighbor_ID_7          locfloor  \n",
       "0    -1-floor4_1-Sto    -1-floor4_1-Sto    -1-floor4_1-Sto  Stockholm-floor4  \n",
       "1    -1-floor4_1-Sto    -1-floor4_1-Sto    -1-floor4_1-Sto  Stockholm-floor4  \n",
       "2    -1-floor4_1-Sto    -1-floor4_1-Sto    -1-floor4_1-Sto  Stockholm-floor4  \n",
       "3    -1-floor4_1-Sto    -1-floor4_1-Sto    -1-floor4_1-Sto  Stockholm-floor4  \n",
       "4    -1-floor4_1-Sto    -1-floor4_1-Sto    -1-floor4_1-Sto  Stockholm-floor4  \n",
       "\n",
       "[5 rows x 43 columns]"
      ]
     },
     "execution_count": 2,
     "metadata": {},
     "output_type": "execute_result"
    }
   ],
   "source": [
    "data_list = []\n",
    "flist = []\n",
    "def import_node_db():\n",
    "  global flist,data_list\n",
    "  data_list = [\"Stockholm\",\"Saarbrucken\",\"Freiburg\"]\n",
    "    \n",
    "  floor_list1 = [\"floor4_1\",\"floor4_2\",\"floor4_3\",\"floor4_4\",\"floor4_5\",\"floor4_6\",\"floor4_7\",\"floor4_8\",\n",
    "                   \"floor5_1\",\"floor5_2\",\"floor5_3\",\"floor5_4\",\"floor5_5\",\"floor5_6\",\"floor5_7\",\"floor5_8\",\n",
    "                   \"floor6_1\",\"floor6_2\",\"floor6_3\",\"floor6_4\",\"floor6_5\",\"floor6_6\",\"floor6_7\",\"floor6_8\",\"floor6_9\",\n",
    "                   \"floor6_10\",\"floor6_11\",\"floor6_12\",\"floor6_13\",\"floor6_14\",\"floor6_15\",\"floor6_16\",\"floor6_17\",\"floor6_18\",\n",
    "                   \"floor7_1\",\"floor7_2\",\"floor7_3\",\"floor7_4\",\"floor7_5\",\"floor7_6\",\"floor7_7\",\"floor7_8\"]\n",
    "\n",
    "  floor_list2 = [\"seq1_cloudy1\",\"seq1_cloudy2\",\"seq1_cloudy3\",\"seq1_night1\",\"seq1_night2\",\"seq1_night3\",\n",
    "                 \"seq2_cloudy1\",\"seq2_cloudy2\",\"seq2_cloudy3\",\"seq2_night1\",\"seq2_night2\",\"seq2_night3\",\n",
    "                 \"seq3_cloudy1\",\"seq3_cloudy2\",\"seq3_cloudy3\",\"seq3_cloudy4\",\"seq3_cloudy5\",\"seq3_night1\",\"seq3_night2\",\"seq3_night3\",\"seq3_sunny1\",\"seq3_sunny2\",\"seq3_sunny3\",\n",
    "                 \"seq4_cloudy1\",\"seq4_cloudy2\",\"seq4_cloudy3\",\"seq4_night1\",\"seq4_night2\",\"seq4_night3\",\"seq4_sunny1\",\"seq4_sunny2\",\"seq4_sunny3\"]\n",
    "\n",
    "  floor_list3 = [\"seq1_cloudy1\",\"seq1_cloudy2\",\"seq1_cloudy3\",\"seq1_night1\",\"seq1_night2\",\"seq1_night3\",\"seq1_sunny1\",\"seq1_sunny2\",\"seq1_sunny3\",\"seq1_sunny4\",\n",
    "                 \"seq2_cloudy1\",\"seq2_cloudy2\",\"seq2_cloudy3\",\"seq2_night1\",\"seq2_night2\",\"seq2_night3\",\"seq2_sunny1\",\"seq2_sunny2\",\"seq2_sunny3\",\"seq2_sunny4\",\n",
    "                 \"seq3_cloudy1\",\"seq3_cloudy2\",\"seq3_cloudy3\",\"seq3_sunny1\",\"seq3_sunny2\",\"seq3_sunny3\"]    \n",
    "\n",
    "  flist = [floor_list1,floor_list2,floor_list3]\n",
    "  # return flist\n",
    "  node_df_list = []\n",
    "  for i in range(3):\n",
    "    df_list = []\n",
    "    for j in flist[i]:\n",
    "      if(i==0):\n",
    "        p=6\n",
    "      else:\n",
    "        p=4\n",
    "      node_df1 = pd.read_table(\"F:/prooo/dataset/{}/{}/nodes.dat\".format(data_list[i],j),sep=\"\\s+\")\n",
    "      # node_df1['floor']=j\n",
    "      # node_df1['loc']=data_list[i]\n",
    "      for k in range(8):\n",
    "        node_df1[\"new_neighbor_ID_{}\".format(k)] = [str(col) +\"-\"+ str(j) + \"-\" + str(data_list[i][:3])  for col in node_df1[\"neighbor_ID_{}\".format(k)]]\n",
    "      # node_df1['locfloor']=data_list[i]+\"-\"+j\n",
    "      node_df1['node_id']=[str(col) +\"-\"+ str(j) + \"-\" + str(data_list[i][:3]) for col in node_df1['node_id']]\n",
    "      node_df1['locfloor']=data_list[i]+\"-\"+j[:p]\n",
    "      df_list.append(node_df1)\n",
    "    node_df_list.append(pd.concat(df_list,ignore_index=True))\n",
    "  main_list = pd.concat(node_df_list,ignore_index=True)\n",
    "  return main_list\n",
    "data = import_node_db()\n",
    "data.head()"
   ]
  },
  {
   "cell_type": "code",
   "execution_count": 3,
   "id": "78f6ef25-8260-4755-8662-743592b467a1",
   "metadata": {
    "executionInfo": {
     "elapsed": 153025,
     "status": "ok",
     "timestamp": 1682699902023,
     "user": {
      "displayName": "2022 11004",
      "userId": "15982028115013975822"
     },
     "user_tz": -330
    },
    "id": "BcN0VLaC_Bi0"
   },
   "outputs": [],
   "source": [
    "node_number = 1\n",
    "for i in data[\"node_id\"]:\n",
    "  # print(i)\n",
    "  data = data.replace(i,node_number)\n",
    "  node_number = node_number + 1"
   ]
  },
  {
   "cell_type": "markdown",
   "id": "d19c4dd3",
   "metadata": {},
   "source": [
    "### Fixing \"neighbor_id\" according node_id"
   ]
  },
  {
   "cell_type": "code",
   "execution_count": 4,
   "id": "21639dbd-483d-434f-9ded-57e5708ed29e",
   "metadata": {
    "executionInfo": {
     "elapsed": 2668,
     "status": "ok",
     "timestamp": 1682699904676,
     "user": {
      "displayName": "2022 11004",
      "userId": "15982028115013975822"
     },
     "user_tz": -330
    },
    "id": "FiQdU79vhfnc"
   },
   "outputs": [],
   "source": [
    "for i in data_list:\n",
    "  for j in flist:\n",
    "    for k in j:\n",
    "      data.replace(str(-1)+\"-\"+k+\"-\"+i[:3],0,inplace=True)"
   ]
  },
  {
   "cell_type": "code",
   "execution_count": 5,
   "id": "f7c23ff1-c09c-462b-8a22-379fde38ae0d",
   "metadata": {},
   "outputs": [
    {
     "name": "stdout",
     "output_type": "stream",
     "text": [
      "<class 'pandas.core.frame.DataFrame'>\n",
      "RangeIndex: 12009 entries, 0 to 12008\n",
      "Data columns (total 43 columns):\n",
      " #   Column             Non-Null Count  Dtype  \n",
      "---  ------             --------------  -----  \n",
      " 0   node_id            12009 non-null  int64  \n",
      " 1   placeholder        12009 non-null  int64  \n",
      " 2   x                  12009 non-null  float64\n",
      " 3   y                  12009 non-null  float64\n",
      " 4   d1                 12009 non-null  float64\n",
      " 5   d2                 12009 non-null  float64\n",
      " 6   d3                 12009 non-null  float64\n",
      " 7   d4                 12009 non-null  float64\n",
      " 8   label              12009 non-null  object \n",
      " 9   d5                 12009 non-null  float64\n",
      " 10  neighbor_ID_0      12009 non-null  int64  \n",
      " 11  affordance_0       12009 non-null  float64\n",
      " 12  view_num_0         12009 non-null  int64  \n",
      " 13  neighbor_ID_1      12009 non-null  int64  \n",
      " 14  affordance_1       12009 non-null  float64\n",
      " 15  view_num_1         12009 non-null  int64  \n",
      " 16  neighbor_ID_2      12009 non-null  int64  \n",
      " 17  affordance_2       12009 non-null  float64\n",
      " 18  view_num_2         12009 non-null  int64  \n",
      " 19  neighbor_ID_3      12009 non-null  int64  \n",
      " 20  affordance_3       12009 non-null  float64\n",
      " 21  view_num_3         12009 non-null  int64  \n",
      " 22  neighbor_ID_4      12009 non-null  int64  \n",
      " 23  affordance_4       12009 non-null  float64\n",
      " 24  view_num_4         12009 non-null  int64  \n",
      " 25  neighbor_ID_5      12009 non-null  int64  \n",
      " 26  affordance_5       12009 non-null  float64\n",
      " 27  view_num_5         12009 non-null  int64  \n",
      " 28  neighbor_ID_6      12009 non-null  int64  \n",
      " 29  affordance_6       12009 non-null  float64\n",
      " 30  view_num_6         12009 non-null  int64  \n",
      " 31  neighbor_ID_7      12009 non-null  int64  \n",
      " 32  affordance_7       12009 non-null  float64\n",
      " 33  view_num_7         12009 non-null  int64  \n",
      " 34  new_neighbor_ID_0  12009 non-null  int64  \n",
      " 35  new_neighbor_ID_1  12009 non-null  int64  \n",
      " 36  new_neighbor_ID_2  12009 non-null  int64  \n",
      " 37  new_neighbor_ID_3  12009 non-null  int64  \n",
      " 38  new_neighbor_ID_4  12009 non-null  int64  \n",
      " 39  new_neighbor_ID_5  12009 non-null  int64  \n",
      " 40  new_neighbor_ID_6  12009 non-null  int64  \n",
      " 41  new_neighbor_ID_7  12009 non-null  int64  \n",
      " 42  locfloor           12009 non-null  object \n",
      "dtypes: float64(15), int64(26), object(2)\n",
      "memory usage: 3.9+ MB\n"
     ]
    }
   ],
   "source": [
    "data.info()"
   ]
  },
  {
   "cell_type": "markdown",
   "id": "1cfd08e0",
   "metadata": {},
   "source": [
    "### Dropping out unnecessary columns"
   ]
  },
  {
   "cell_type": "code",
   "execution_count": 6,
   "id": "c23c45c9-1515-425c-9fce-31633ae9e2bd",
   "metadata": {},
   "outputs": [],
   "source": [
    "df = data.drop(['d1','d2','d3','d4','d5','neighbor_ID_0','neighbor_ID_1','neighbor_ID_2','neighbor_ID_3','neighbor_ID_4','neighbor_ID_5','neighbor_ID_6','neighbor_ID_7'], axis=1)"
   ]
  },
  {
   "cell_type": "code",
   "execution_count": 7,
   "id": "60d5f049",
   "metadata": {},
   "outputs": [
    {
     "name": "stdout",
     "output_type": "stream",
     "text": [
      "<class 'pandas.core.frame.DataFrame'>\n",
      "RangeIndex: 12009 entries, 0 to 12008\n",
      "Data columns (total 30 columns):\n",
      " #   Column             Non-Null Count  Dtype  \n",
      "---  ------             --------------  -----  \n",
      " 0   node_id            12009 non-null  int64  \n",
      " 1   placeholder        12009 non-null  int64  \n",
      " 2   x                  12009 non-null  float64\n",
      " 3   y                  12009 non-null  float64\n",
      " 4   label              12009 non-null  object \n",
      " 5   affordance_0       12009 non-null  float64\n",
      " 6   view_num_0         12009 non-null  int64  \n",
      " 7   affordance_1       12009 non-null  float64\n",
      " 8   view_num_1         12009 non-null  int64  \n",
      " 9   affordance_2       12009 non-null  float64\n",
      " 10  view_num_2         12009 non-null  int64  \n",
      " 11  affordance_3       12009 non-null  float64\n",
      " 12  view_num_3         12009 non-null  int64  \n",
      " 13  affordance_4       12009 non-null  float64\n",
      " 14  view_num_4         12009 non-null  int64  \n",
      " 15  affordance_5       12009 non-null  float64\n",
      " 16  view_num_5         12009 non-null  int64  \n",
      " 17  affordance_6       12009 non-null  float64\n",
      " 18  view_num_6         12009 non-null  int64  \n",
      " 19  affordance_7       12009 non-null  float64\n",
      " 20  view_num_7         12009 non-null  int64  \n",
      " 21  new_neighbor_ID_0  12009 non-null  int64  \n",
      " 22  new_neighbor_ID_1  12009 non-null  int64  \n",
      " 23  new_neighbor_ID_2  12009 non-null  int64  \n",
      " 24  new_neighbor_ID_3  12009 non-null  int64  \n",
      " 25  new_neighbor_ID_4  12009 non-null  int64  \n",
      " 26  new_neighbor_ID_5  12009 non-null  int64  \n",
      " 27  new_neighbor_ID_6  12009 non-null  int64  \n",
      " 28  new_neighbor_ID_7  12009 non-null  int64  \n",
      " 29  locfloor           12009 non-null  object \n",
      "dtypes: float64(10), int64(18), object(2)\n",
      "memory usage: 2.7+ MB\n"
     ]
    }
   ],
   "source": [
    "df.info()"
   ]
  },
  {
   "cell_type": "code",
   "execution_count": 8,
   "id": "b27c9f87",
   "metadata": {},
   "outputs": [
    {
     "data": {
      "text/plain": [
       "(22,)"
      ]
     },
     "execution_count": 8,
     "metadata": {},
     "output_type": "execute_result"
    }
   ],
   "source": [
    "y = np.array(df['label'])\n",
    "df['label'].unique().shape"
   ]
  },
  {
   "cell_type": "code",
   "execution_count": 9,
   "id": "4aaee79a",
   "metadata": {},
   "outputs": [],
   "source": [
    "import numpy as np\n",
    "import keras\n",
    "from keras.models import Sequential\n",
    "from keras.layers import Dense, Conv1D, MaxPooling1D, Flatten\n",
    "from keras.utils import to_categorical"
   ]
  },
  {
   "cell_type": "code",
   "execution_count": 10,
   "id": "fdeb542c",
   "metadata": {},
   "outputs": [
    {
     "name": "stdout",
     "output_type": "stream",
     "text": [
      "<class 'pandas.core.frame.DataFrame'>\n",
      "RangeIndex: 12009 entries, 0 to 12008\n",
      "Data columns (total 30 columns):\n",
      " #   Column             Non-Null Count  Dtype  \n",
      "---  ------             --------------  -----  \n",
      " 0   node_id            12009 non-null  int64  \n",
      " 1   placeholder        12009 non-null  int64  \n",
      " 2   x                  12009 non-null  float64\n",
      " 3   y                  12009 non-null  float64\n",
      " 4   label              12009 non-null  object \n",
      " 5   affordance_0       12009 non-null  float64\n",
      " 6   view_num_0         12009 non-null  int64  \n",
      " 7   affordance_1       12009 non-null  float64\n",
      " 8   view_num_1         12009 non-null  int64  \n",
      " 9   affordance_2       12009 non-null  float64\n",
      " 10  view_num_2         12009 non-null  int64  \n",
      " 11  affordance_3       12009 non-null  float64\n",
      " 12  view_num_3         12009 non-null  int64  \n",
      " 13  affordance_4       12009 non-null  float64\n",
      " 14  view_num_4         12009 non-null  int64  \n",
      " 15  affordance_5       12009 non-null  float64\n",
      " 16  view_num_5         12009 non-null  int64  \n",
      " 17  affordance_6       12009 non-null  float64\n",
      " 18  view_num_6         12009 non-null  int64  \n",
      " 19  affordance_7       12009 non-null  float64\n",
      " 20  view_num_7         12009 non-null  int64  \n",
      " 21  new_neighbor_ID_0  12009 non-null  int64  \n",
      " 22  new_neighbor_ID_1  12009 non-null  int64  \n",
      " 23  new_neighbor_ID_2  12009 non-null  int64  \n",
      " 24  new_neighbor_ID_3  12009 non-null  int64  \n",
      " 25  new_neighbor_ID_4  12009 non-null  int64  \n",
      " 26  new_neighbor_ID_5  12009 non-null  int64  \n",
      " 27  new_neighbor_ID_6  12009 non-null  int64  \n",
      " 28  new_neighbor_ID_7  12009 non-null  int64  \n",
      " 29  locfloor           12009 non-null  int32  \n",
      "dtypes: float64(10), int32(1), int64(18), object(1)\n",
      "memory usage: 2.7+ MB\n"
     ]
    }
   ],
   "source": [
    "label_encoder = preprocessing.LabelEncoder()\n",
    "  \n",
    "# Encode labels in column 'species'.\n",
    "df['locfloor']= label_encoder.fit_transform(df['locfloor'])\n",
    "\n",
    "df.info()"
   ]
  },
  {
   "cell_type": "code",
   "execution_count": 11,
   "id": "6cf0bc80",
   "metadata": {},
   "outputs": [],
   "source": [
    "def encode_onehot(labels):\n",
    "    classes = set(labels)\n",
    "    classes_dict = {c: np.identity(len(classes))[i, :] for i, c in enumerate(classes)}\n",
    "    labels_onehot = np.array(list(map(classes_dict.get, labels)), dtype=np.int32)\n",
    "    return labels_onehot"
   ]
  },
  {
   "cell_type": "code",
   "execution_count": 12,
   "id": "387c5ad3",
   "metadata": {},
   "outputs": [
    {
     "data": {
      "text/plain": [
       "(12009, 22)"
      ]
     },
     "execution_count": 12,
     "metadata": {},
     "output_type": "execute_result"
    }
   ],
   "source": [
    "labels = encode_onehot(np.array(df['label']))\n",
    "labels.shape"
   ]
  },
  {
   "cell_type": "code",
   "execution_count": 13,
   "id": "acd07519",
   "metadata": {},
   "outputs": [
    {
     "name": "stdout",
     "output_type": "stream",
     "text": [
      "<class 'pandas.core.frame.DataFrame'>\n",
      "RangeIndex: 12009 entries, 0 to 12008\n",
      "Data columns (total 29 columns):\n",
      " #   Column             Non-Null Count  Dtype  \n",
      "---  ------             --------------  -----  \n",
      " 0   node_id            12009 non-null  int64  \n",
      " 1   placeholder        12009 non-null  int64  \n",
      " 2   x                  12009 non-null  float64\n",
      " 3   y                  12009 non-null  float64\n",
      " 4   affordance_0       12009 non-null  float64\n",
      " 5   view_num_0         12009 non-null  int64  \n",
      " 6   affordance_1       12009 non-null  float64\n",
      " 7   view_num_1         12009 non-null  int64  \n",
      " 8   affordance_2       12009 non-null  float64\n",
      " 9   view_num_2         12009 non-null  int64  \n",
      " 10  affordance_3       12009 non-null  float64\n",
      " 11  view_num_3         12009 non-null  int64  \n",
      " 12  affordance_4       12009 non-null  float64\n",
      " 13  view_num_4         12009 non-null  int64  \n",
      " 14  affordance_5       12009 non-null  float64\n",
      " 15  view_num_5         12009 non-null  int64  \n",
      " 16  affordance_6       12009 non-null  float64\n",
      " 17  view_num_6         12009 non-null  int64  \n",
      " 18  affordance_7       12009 non-null  float64\n",
      " 19  view_num_7         12009 non-null  int64  \n",
      " 20  new_neighbor_ID_0  12009 non-null  int64  \n",
      " 21  new_neighbor_ID_1  12009 non-null  int64  \n",
      " 22  new_neighbor_ID_2  12009 non-null  int64  \n",
      " 23  new_neighbor_ID_3  12009 non-null  int64  \n",
      " 24  new_neighbor_ID_4  12009 non-null  int64  \n",
      " 25  new_neighbor_ID_5  12009 non-null  int64  \n",
      " 26  new_neighbor_ID_6  12009 non-null  int64  \n",
      " 27  new_neighbor_ID_7  12009 non-null  int64  \n",
      " 28  locfloor           12009 non-null  int32  \n",
      "dtypes: float64(10), int32(1), int64(18)\n",
      "memory usage: 2.6 MB\n"
     ]
    }
   ],
   "source": [
    "df = df.drop(['label'],axis = 1)\n",
    "df.info()"
   ]
  },
  {
   "cell_type": "code",
   "execution_count": 14,
   "id": "2838cc80",
   "metadata": {},
   "outputs": [
    {
     "name": "stdout",
     "output_type": "stream",
     "text": [
      "(12009, 29)\n"
     ]
    }
   ],
   "source": [
    "import numpy as np\n",
    "from sklearn.model_selection import train_test_split\n",
    "X = np.array(df)\n",
    "print(X.shape)\n",
    "X = np.reshape(X, (12009, 29, 1))\n",
    "# Split the data into training and test sets\n",
    "X_train, X_test, y_train, y_test = train_test_split(X, labels, test_size=0.2, random_state=42)\n",
    "# Split the training data into training and validation sets\n",
    "X_train, X_val, y_train, y_val = train_test_split(X_train, y_train, test_size=0.2, random_state=42)"
   ]
  },
  {
   "cell_type": "code",
   "execution_count": 15,
   "id": "1392e23c",
   "metadata": {},
   "outputs": [],
   "source": [
    "import numpy as np\n",
    "import keras\n",
    "from keras.models import Sequential\n",
    "from keras.layers import Dense, Dropout"
   ]
  },
  {
   "cell_type": "code",
   "execution_count": 16,
   "id": "772c496a",
   "metadata": {},
   "outputs": [],
   "source": [
    "model = Sequential()\n",
    "model.add(Dense(128, input_dim=29, activation='relu'))\n",
    "model.add(Dropout(0.5))\n",
    "model.add(Dense(64, activation='relu'))\n",
    "model.add(Dropout(0.5))\n",
    "model.add(Dense(32, activation='relu'))\n",
    "model.add(Dropout(0.5))\n",
    "model.add(Dense(22, activation='softmax'))"
   ]
  },
  {
   "cell_type": "code",
   "execution_count": 17,
   "id": "bdb876e7",
   "metadata": {},
   "outputs": [],
   "source": [
    "model.compile(loss='categorical_crossentropy', optimizer='adam', metrics=['accuracy'])"
   ]
  },
  {
   "cell_type": "code",
   "execution_count": 18,
   "id": "e7b31064",
   "metadata": {
    "scrolled": false
   },
   "outputs": [
    {
     "name": "stdout",
     "output_type": "stream",
     "text": [
      "Epoch 1/100\n",
      "241/241 [==============================] - 1s 2ms/step - loss: 614.9355 - accuracy: 0.1044 - val_loss: 3.2145 - val_accuracy: 0.2867\n",
      "Epoch 2/100\n",
      "241/241 [==============================] - 0s 2ms/step - loss: 21.8493 - accuracy: 0.2180 - val_loss: 2.8888 - val_accuracy: 0.2888\n",
      "Epoch 3/100\n",
      "241/241 [==============================] - 0s 2ms/step - loss: 7.7355 - accuracy: 0.2882 - val_loss: 2.7823 - val_accuracy: 0.2888\n",
      "Epoch 4/100\n",
      "241/241 [==============================] - 0s 2ms/step - loss: 5.4779 - accuracy: 0.2947 - val_loss: 2.7026 - val_accuracy: 0.2888\n",
      "Epoch 5/100\n",
      "241/241 [==============================] - 0s 2ms/step - loss: 3.9600 - accuracy: 0.2963 - val_loss: 2.6455 - val_accuracy: 0.2888\n",
      "Epoch 6/100\n",
      "241/241 [==============================] - 0s 2ms/step - loss: 3.4693 - accuracy: 0.2975 - val_loss: 2.6049 - val_accuracy: 0.2888\n",
      "Epoch 7/100\n",
      "241/241 [==============================] - 0s 2ms/step - loss: 3.0783 - accuracy: 0.2989 - val_loss: 2.5768 - val_accuracy: 0.2888\n",
      "Epoch 8/100\n",
      "241/241 [==============================] - 0s 2ms/step - loss: 3.1720 - accuracy: 0.2990 - val_loss: 2.5583 - val_accuracy: 0.2888\n",
      "Epoch 9/100\n",
      "241/241 [==============================] - 0s 2ms/step - loss: 2.9490 - accuracy: 0.2986 - val_loss: 2.5464 - val_accuracy: 0.2888\n",
      "Epoch 10/100\n",
      "241/241 [==============================] - 0s 2ms/step - loss: 2.8074 - accuracy: 0.2988 - val_loss: 2.5392 - val_accuracy: 0.2888\n",
      "Epoch 11/100\n",
      "241/241 [==============================] - 0s 2ms/step - loss: 2.6824 - accuracy: 0.2992 - val_loss: 2.5346 - val_accuracy: 0.2888\n",
      "Epoch 12/100\n",
      "241/241 [==============================] - 0s 2ms/step - loss: 2.8240 - accuracy: 0.2990 - val_loss: 2.5315 - val_accuracy: 0.2888\n",
      "Epoch 13/100\n",
      "241/241 [==============================] - 0s 2ms/step - loss: 2.6114 - accuracy: 0.2990 - val_loss: 2.5295 - val_accuracy: 0.2888\n",
      "Epoch 14/100\n",
      "241/241 [==============================] - 0s 2ms/step - loss: 2.5717 - accuracy: 0.2993 - val_loss: 2.5281 - val_accuracy: 0.2888\n",
      "Epoch 15/100\n",
      "241/241 [==============================] - 0s 2ms/step - loss: 2.6588 - accuracy: 0.2990 - val_loss: 2.5270 - val_accuracy: 0.2888\n",
      "Epoch 16/100\n",
      "241/241 [==============================] - 0s 2ms/step - loss: 2.6292 - accuracy: 0.2993 - val_loss: 2.5263 - val_accuracy: 0.2888\n",
      "Epoch 17/100\n",
      "241/241 [==============================] - 0s 2ms/step - loss: 2.5678 - accuracy: 0.2993 - val_loss: 2.5256 - val_accuracy: 0.2888\n",
      "Epoch 18/100\n",
      "241/241 [==============================] - 0s 2ms/step - loss: 2.6450 - accuracy: 0.2997 - val_loss: 2.5252 - val_accuracy: 0.2888\n",
      "Epoch 19/100\n",
      "241/241 [==============================] - 0s 2ms/step - loss: 2.6306 - accuracy: 0.2995 - val_loss: 2.5248 - val_accuracy: 0.2888\n",
      "Epoch 20/100\n",
      "241/241 [==============================] - 0s 2ms/step - loss: 2.5305 - accuracy: 0.2995 - val_loss: 2.5245 - val_accuracy: 0.2888\n",
      "Epoch 21/100\n",
      "241/241 [==============================] - 0s 2ms/step - loss: 2.5458 - accuracy: 0.2998 - val_loss: 2.5243 - val_accuracy: 0.2888\n",
      "Epoch 22/100\n",
      "241/241 [==============================] - 0s 2ms/step - loss: 2.5176 - accuracy: 0.2994 - val_loss: 2.5242 - val_accuracy: 0.2888\n",
      "Epoch 23/100\n",
      "241/241 [==============================] - 0s 2ms/step - loss: 2.5300 - accuracy: 0.2997 - val_loss: 2.5240 - val_accuracy: 0.2888\n",
      "Epoch 24/100\n",
      "241/241 [==============================] - 0s 2ms/step - loss: 2.5509 - accuracy: 0.2998 - val_loss: 2.5240 - val_accuracy: 0.2888\n",
      "Epoch 25/100\n",
      "241/241 [==============================] - 1s 2ms/step - loss: 2.5265 - accuracy: 0.2995 - val_loss: 2.5239 - val_accuracy: 0.2888\n",
      "Epoch 26/100\n",
      "241/241 [==============================] - 1s 2ms/step - loss: 2.5035 - accuracy: 0.2998 - val_loss: 2.5238 - val_accuracy: 0.2888\n",
      "Epoch 27/100\n",
      "241/241 [==============================] - 1s 2ms/step - loss: 2.5715 - accuracy: 0.2995 - val_loss: 2.5239 - val_accuracy: 0.2888\n",
      "Epoch 28/100\n",
      "241/241 [==============================] - 1s 2ms/step - loss: 2.5119 - accuracy: 0.2995 - val_loss: 2.5239 - val_accuracy: 0.2888\n",
      "Epoch 29/100\n",
      "241/241 [==============================] - 1s 2ms/step - loss: 2.5124 - accuracy: 0.2995 - val_loss: 2.5238 - val_accuracy: 0.2888\n",
      "Epoch 30/100\n",
      "241/241 [==============================] - 1s 2ms/step - loss: 2.5309 - accuracy: 0.2995 - val_loss: 2.5239 - val_accuracy: 0.2888\n",
      "Epoch 31/100\n",
      "241/241 [==============================] - 1s 2ms/step - loss: 2.5140 - accuracy: 0.2997 - val_loss: 2.5240 - val_accuracy: 0.2888\n",
      "Epoch 32/100\n",
      "241/241 [==============================] - 1s 2ms/step - loss: 2.5058 - accuracy: 0.2997 - val_loss: 2.5240 - val_accuracy: 0.2888\n",
      "Epoch 33/100\n",
      "241/241 [==============================] - 1s 2ms/step - loss: 2.5215 - accuracy: 0.2997 - val_loss: 2.5240 - val_accuracy: 0.2888\n",
      "Epoch 34/100\n",
      "241/241 [==============================] - 1s 2ms/step - loss: 2.5078 - accuracy: 0.2997 - val_loss: 2.5240 - val_accuracy: 0.2888\n",
      "Epoch 35/100\n",
      "241/241 [==============================] - 1s 2ms/step - loss: 2.5043 - accuracy: 0.2998 - val_loss: 2.5239 - val_accuracy: 0.2888\n",
      "Epoch 36/100\n",
      "241/241 [==============================] - 1s 2ms/step - loss: 2.5074 - accuracy: 0.2995 - val_loss: 2.5240 - val_accuracy: 0.2888\n",
      "Epoch 37/100\n",
      "241/241 [==============================] - 1s 2ms/step - loss: 2.5033 - accuracy: 0.2997 - val_loss: 2.5241 - val_accuracy: 0.2888\n",
      "Epoch 38/100\n",
      "241/241 [==============================] - 1s 2ms/step - loss: 2.5465 - accuracy: 0.2995 - val_loss: 2.5241 - val_accuracy: 0.2888\n",
      "Epoch 39/100\n",
      "241/241 [==============================] - 1s 2ms/step - loss: 2.5028 - accuracy: 0.2998 - val_loss: 2.5241 - val_accuracy: 0.2888\n",
      "Epoch 40/100\n",
      "241/241 [==============================] - 1s 2ms/step - loss: 2.5116 - accuracy: 0.2995 - val_loss: 2.5241 - val_accuracy: 0.2888\n",
      "Epoch 41/100\n",
      "241/241 [==============================] - 1s 2ms/step - loss: 2.5080 - accuracy: 0.2995 - val_loss: 2.5241 - val_accuracy: 0.2888\n",
      "Epoch 42/100\n",
      "241/241 [==============================] - 1s 3ms/step - loss: 2.5075 - accuracy: 0.2995 - val_loss: 2.5241 - val_accuracy: 0.2888\n",
      "Epoch 43/100\n",
      "241/241 [==============================] - 1s 2ms/step - loss: 2.5682 - accuracy: 0.2997 - val_loss: 2.5242 - val_accuracy: 0.2888\n",
      "Epoch 44/100\n",
      "241/241 [==============================] - 1s 2ms/step - loss: 2.5279 - accuracy: 0.2995 - val_loss: 2.5242 - val_accuracy: 0.2888\n",
      "Epoch 45/100\n",
      "241/241 [==============================] - 1s 2ms/step - loss: 2.5180 - accuracy: 0.2997 - val_loss: 2.5242 - val_accuracy: 0.2888\n",
      "Epoch 46/100\n",
      "241/241 [==============================] - 1s 2ms/step - loss: 2.5035 - accuracy: 0.2995 - val_loss: 2.5242 - val_accuracy: 0.2888\n",
      "Epoch 47/100\n",
      "241/241 [==============================] - 1s 2ms/step - loss: 2.5297 - accuracy: 0.2994 - val_loss: 2.5244 - val_accuracy: 0.2888\n",
      "Epoch 48/100\n",
      "241/241 [==============================] - 1s 2ms/step - loss: 2.5379 - accuracy: 0.2995 - val_loss: 2.5242 - val_accuracy: 0.2888\n",
      "Epoch 49/100\n",
      "241/241 [==============================] - 1s 2ms/step - loss: 2.5033 - accuracy: 0.2997 - val_loss: 2.5242 - val_accuracy: 0.2888\n",
      "Epoch 50/100\n",
      "241/241 [==============================] - 1s 2ms/step - loss: 2.5092 - accuracy: 0.2994 - val_loss: 2.5243 - val_accuracy: 0.2888\n",
      "Epoch 51/100\n",
      "241/241 [==============================] - 1s 2ms/step - loss: 2.5159 - accuracy: 0.2997 - val_loss: 2.5243 - val_accuracy: 0.2888\n",
      "Epoch 52/100\n",
      "241/241 [==============================] - 1s 2ms/step - loss: 2.5215 - accuracy: 0.2994 - val_loss: 2.5242 - val_accuracy: 0.2888\n",
      "Epoch 53/100\n",
      "241/241 [==============================] - 1s 2ms/step - loss: 2.5032 - accuracy: 0.2997 - val_loss: 2.5242 - val_accuracy: 0.2888\n",
      "Epoch 54/100\n",
      "241/241 [==============================] - 1s 2ms/step - loss: 2.5371 - accuracy: 0.2993 - val_loss: 2.5243 - val_accuracy: 0.2888\n",
      "Epoch 55/100\n",
      "241/241 [==============================] - 1s 2ms/step - loss: 2.5726 - accuracy: 0.2995 - val_loss: 2.5243 - val_accuracy: 0.2888\n",
      "Epoch 56/100\n",
      "241/241 [==============================] - 1s 2ms/step - loss: 2.5055 - accuracy: 0.2997 - val_loss: 2.5243 - val_accuracy: 0.2888\n",
      "Epoch 57/100\n",
      "241/241 [==============================] - 1s 2ms/step - loss: 2.5175 - accuracy: 0.2997 - val_loss: 2.5243 - val_accuracy: 0.2888\n"
     ]
    },
    {
     "name": "stdout",
     "output_type": "stream",
     "text": [
      "Epoch 58/100\n",
      "241/241 [==============================] - 1s 2ms/step - loss: 2.5361 - accuracy: 0.2997 - val_loss: 2.5243 - val_accuracy: 0.2888\n",
      "Epoch 59/100\n",
      "241/241 [==============================] - 0s 2ms/step - loss: 2.5370 - accuracy: 0.2997 - val_loss: 2.5243 - val_accuracy: 0.2888\n",
      "Epoch 60/100\n",
      "241/241 [==============================] - 0s 2ms/step - loss: 2.5350 - accuracy: 0.2997 - val_loss: 2.5243 - val_accuracy: 0.2888\n",
      "Epoch 61/100\n",
      "241/241 [==============================] - 1s 2ms/step - loss: 2.5038 - accuracy: 0.2997 - val_loss: 2.5244 - val_accuracy: 0.2888\n",
      "Epoch 62/100\n",
      "241/241 [==============================] - 1s 2ms/step - loss: 2.5031 - accuracy: 0.2997 - val_loss: 2.5244 - val_accuracy: 0.2888\n",
      "Epoch 63/100\n",
      "241/241 [==============================] - 1s 2ms/step - loss: 2.5032 - accuracy: 0.2997 - val_loss: 2.5244 - val_accuracy: 0.2888\n",
      "Epoch 64/100\n",
      "241/241 [==============================] - 0s 2ms/step - loss: 2.5183 - accuracy: 0.2997 - val_loss: 2.5243 - val_accuracy: 0.2888\n",
      "Epoch 65/100\n",
      "241/241 [==============================] - 0s 2ms/step - loss: 2.5062 - accuracy: 0.2995 - val_loss: 2.5244 - val_accuracy: 0.2888\n",
      "Epoch 66/100\n",
      "241/241 [==============================] - 0s 2ms/step - loss: 2.5033 - accuracy: 0.2997 - val_loss: 2.5243 - val_accuracy: 0.2888\n",
      "Epoch 67/100\n",
      "241/241 [==============================] - 0s 2ms/step - loss: 2.5032 - accuracy: 0.2997 - val_loss: 2.5243 - val_accuracy: 0.2888\n",
      "Epoch 68/100\n",
      "241/241 [==============================] - 0s 2ms/step - loss: 2.5033 - accuracy: 0.2997 - val_loss: 2.5243 - val_accuracy: 0.2888\n",
      "Epoch 69/100\n",
      "241/241 [==============================] - 1s 2ms/step - loss: 2.5032 - accuracy: 0.2997 - val_loss: 2.5243 - val_accuracy: 0.2888\n",
      "Epoch 70/100\n",
      "241/241 [==============================] - 1s 2ms/step - loss: 2.5032 - accuracy: 0.2997 - val_loss: 2.5242 - val_accuracy: 0.2888\n",
      "Epoch 71/100\n",
      "241/241 [==============================] - 1s 2ms/step - loss: 2.5032 - accuracy: 0.2997 - val_loss: 2.5244 - val_accuracy: 0.2888\n",
      "Epoch 72/100\n",
      "241/241 [==============================] - 0s 2ms/step - loss: 2.5032 - accuracy: 0.2997 - val_loss: 2.5244 - val_accuracy: 0.2888\n",
      "Epoch 73/100\n",
      "241/241 [==============================] - 1s 2ms/step - loss: 2.5032 - accuracy: 0.2997 - val_loss: 2.5244 - val_accuracy: 0.2888\n",
      "Epoch 74/100\n",
      "241/241 [==============================] - 0s 2ms/step - loss: 2.5032 - accuracy: 0.2997 - val_loss: 2.5244 - val_accuracy: 0.2888\n",
      "Epoch 75/100\n",
      "241/241 [==============================] - 1s 2ms/step - loss: 2.5100 - accuracy: 0.2997 - val_loss: 2.5244 - val_accuracy: 0.2888\n",
      "Epoch 76/100\n",
      "241/241 [==============================] - 1s 2ms/step - loss: 2.5103 - accuracy: 0.2995 - val_loss: 2.5244 - val_accuracy: 0.2888\n",
      "Epoch 77/100\n",
      "241/241 [==============================] - 1s 2ms/step - loss: 2.5145 - accuracy: 0.2997 - val_loss: 2.5245 - val_accuracy: 0.2888\n",
      "Epoch 78/100\n",
      "241/241 [==============================] - 1s 2ms/step - loss: 2.5032 - accuracy: 0.2997 - val_loss: 2.5244 - val_accuracy: 0.2888\n",
      "Epoch 79/100\n",
      "241/241 [==============================] - 1s 2ms/step - loss: 2.5033 - accuracy: 0.2997 - val_loss: 2.5245 - val_accuracy: 0.2888\n",
      "Epoch 80/100\n",
      "241/241 [==============================] - 0s 2ms/step - loss: 2.5064 - accuracy: 0.2997 - val_loss: 2.5245 - val_accuracy: 0.2888\n",
      "Epoch 81/100\n",
      "241/241 [==============================] - 1s 2ms/step - loss: 2.5124 - accuracy: 0.2995 - val_loss: 2.5245 - val_accuracy: 0.2888\n",
      "Epoch 82/100\n",
      "241/241 [==============================] - 0s 2ms/step - loss: 2.5282 - accuracy: 0.2997 - val_loss: 2.5246 - val_accuracy: 0.2888\n",
      "Epoch 83/100\n",
      "241/241 [==============================] - 1s 2ms/step - loss: 2.5032 - accuracy: 0.2997 - val_loss: 2.5245 - val_accuracy: 0.2888\n",
      "Epoch 84/100\n",
      "241/241 [==============================] - 0s 2ms/step - loss: 2.5033 - accuracy: 0.2997 - val_loss: 2.5245 - val_accuracy: 0.2888\n",
      "Epoch 85/100\n",
      "241/241 [==============================] - 1s 2ms/step - loss: 2.5032 - accuracy: 0.2997 - val_loss: 2.5246 - val_accuracy: 0.2888\n",
      "Epoch 86/100\n",
      "241/241 [==============================] - 1s 2ms/step - loss: 2.5032 - accuracy: 0.2997 - val_loss: 2.5245 - val_accuracy: 0.2888\n",
      "Epoch 87/100\n",
      "241/241 [==============================] - 1s 2ms/step - loss: 2.5166 - accuracy: 0.2997 - val_loss: 2.5245 - val_accuracy: 0.2888\n",
      "Epoch 88/100\n",
      "241/241 [==============================] - 1s 2ms/step - loss: 2.5034 - accuracy: 0.2995 - val_loss: 2.5245 - val_accuracy: 0.2888\n",
      "Epoch 89/100\n",
      "241/241 [==============================] - 1s 2ms/step - loss: 2.5032 - accuracy: 0.2997 - val_loss: 2.5245 - val_accuracy: 0.2888\n",
      "Epoch 90/100\n",
      "241/241 [==============================] - 1s 2ms/step - loss: 2.5033 - accuracy: 0.2997 - val_loss: 2.5245 - val_accuracy: 0.2888\n",
      "Epoch 91/100\n",
      "241/241 [==============================] - 1s 2ms/step - loss: 2.5032 - accuracy: 0.2997 - val_loss: 2.5245 - val_accuracy: 0.2888\n",
      "Epoch 92/100\n",
      "241/241 [==============================] - 1s 2ms/step - loss: 2.5032 - accuracy: 0.2997 - val_loss: 2.5245 - val_accuracy: 0.2888\n",
      "Epoch 93/100\n",
      "241/241 [==============================] - 1s 2ms/step - loss: 2.5032 - accuracy: 0.2997 - val_loss: 2.5244 - val_accuracy: 0.2888\n",
      "Epoch 94/100\n",
      "241/241 [==============================] - 1s 3ms/step - loss: 2.5032 - accuracy: 0.2997 - val_loss: 2.5246 - val_accuracy: 0.2888\n",
      "Epoch 95/100\n",
      "241/241 [==============================] - 1s 3ms/step - loss: 2.5086 - accuracy: 0.2995 - val_loss: 2.5245 - val_accuracy: 0.2888\n",
      "Epoch 96/100\n",
      "241/241 [==============================] - 1s 2ms/step - loss: 2.5032 - accuracy: 0.2997 - val_loss: 2.5245 - val_accuracy: 0.2888\n",
      "Epoch 97/100\n",
      "241/241 [==============================] - 1s 2ms/step - loss: 2.5104 - accuracy: 0.2997 - val_loss: 2.5245 - val_accuracy: 0.2888\n",
      "Epoch 98/100\n",
      "241/241 [==============================] - 1s 3ms/step - loss: 2.5094 - accuracy: 0.2997 - val_loss: 2.5246 - val_accuracy: 0.2888\n",
      "Epoch 99/100\n",
      "241/241 [==============================] - 1s 2ms/step - loss: 2.5045 - accuracy: 0.2997 - val_loss: 2.5245 - val_accuracy: 0.2888\n",
      "Epoch 100/100\n",
      "241/241 [==============================] - 1s 2ms/step - loss: 2.5032 - accuracy: 0.2997 - val_loss: 2.5245 - val_accuracy: 0.2888\n"
     ]
    },
    {
     "data": {
      "text/plain": [
       "<keras.callbacks.History at 0x17af8b95da0>"
      ]
     },
     "execution_count": 18,
     "metadata": {},
     "output_type": "execute_result"
    }
   ],
   "source": [
    "model.fit(X_train, y_train, epochs=100, batch_size=32, validation_data=(X_val, y_val))"
   ]
  },
  {
   "cell_type": "code",
   "execution_count": 20,
   "id": "b83a5e71",
   "metadata": {},
   "outputs": [
    {
     "name": "stdout",
     "output_type": "stream",
     "text": [
      "Test accuracy: 0.30516237020492554\n"
     ]
    }
   ],
   "source": [
    "# Evaluate the model on the test set\n",
    "loss, accuracy = model.evaluate(X_test, y_test, verbose=0)\n",
    "print('Test accuracy:', accuracy)"
   ]
  },
  {
   "cell_type": "code",
   "execution_count": null,
   "id": "8aae8c76",
   "metadata": {},
   "outputs": [],
   "source": []
  }
 ],
 "metadata": {
  "kernelspec": {
   "display_name": "Python 3 (ipykernel)",
   "language": "python",
   "name": "python3"
  },
  "language_info": {
   "codemirror_mode": {
    "name": "ipython",
    "version": 3
   },
   "file_extension": ".py",
   "mimetype": "text/x-python",
   "name": "python",
   "nbconvert_exporter": "python",
   "pygments_lexer": "ipython3",
   "version": "3.7.2"
  }
 },
 "nbformat": 4,
 "nbformat_minor": 5
}
