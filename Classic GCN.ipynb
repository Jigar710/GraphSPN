{
 "cells": [
  {
   "cell_type": "code",
   "execution_count": 1,
   "id": "ba366537-da9c-42d1-90cc-4724dbbfd757",
   "metadata": {
    "executionInfo": {
     "elapsed": 11,
     "status": "ok",
     "timestamp": 1682699746993,
     "user": {
      "displayName": "2022 11004",
      "userId": "15982028115013975822"
     },
     "user_tz": -330
    },
    "id": "My49V1lqECxL"
   },
   "outputs": [
    {
     "name": "stderr",
     "output_type": "stream",
     "text": [
      "C:\\Users\\jigar\\AppData\\Local\\Programs\\Python\\Python37\\lib\\site-packages\\tqdm\\auto.py:22: TqdmWarning: IProgress not found. Please update jupyter and ipywidgets. See https://ipywidgets.readthedocs.io/en/stable/user_install.html\n",
      "  from .autonotebook import tqdm as notebook_tqdm\n"
     ]
    }
   ],
   "source": [
    "import pandas as pd\n",
    "import numpy as np\n",
    "from sklearn import preprocessing\n",
    "import scipy.sparse as sp\n",
    "import matplotlib.pyplot as plt\n",
    "import matplotlib.image as mpimg\n",
    "import seaborn as sns\n",
    "%matplotlib inline\n",
    "import igraph as ig\n",
    "import torch\n",
    "from torch import nn\n",
    "from torch.nn import functional as F\n",
    "from torch.nn import Parameter\n",
    "import torch.optim as optim\n",
    "import math\n",
    "import time\n",
    "sns.set_theme(style=\"whitegrid\", palette=\"pastel\")"
   ]
  },
  {
   "cell_type": "markdown",
   "id": "2ebecd15",
   "metadata": {},
   "source": [
    "### Loading Dataset"
   ]
  },
  {
   "cell_type": "code",
   "execution_count": 2,
   "id": "105c5778-d48a-4ca1-9667-fd517777c9f5",
   "metadata": {
    "colab": {
     "base_uri": "https://localhost:8080/",
     "height": 424
    },
    "executionInfo": {
     "elapsed": 2018,
     "status": "ok",
     "timestamp": 1682699749002,
     "user": {
      "displayName": "2022 11004",
      "userId": "15982028115013975822"
     },
     "user_tz": -330
    },
    "id": "LXzhWg06Cys6",
    "outputId": "a384db1c-d894-42bd-fb01-b24c798fc3f7"
   },
   "outputs": [
    {
     "data": {
      "text/html": [
       "<div>\n",
       "<style scoped>\n",
       "    .dataframe tbody tr th:only-of-type {\n",
       "        vertical-align: middle;\n",
       "    }\n",
       "\n",
       "    .dataframe tbody tr th {\n",
       "        vertical-align: top;\n",
       "    }\n",
       "\n",
       "    .dataframe thead th {\n",
       "        text-align: right;\n",
       "    }\n",
       "</style>\n",
       "<table border=\"1\" class=\"dataframe\">\n",
       "  <thead>\n",
       "    <tr style=\"text-align: right;\">\n",
       "      <th></th>\n",
       "      <th>node_id</th>\n",
       "      <th>placeholder</th>\n",
       "      <th>x</th>\n",
       "      <th>y</th>\n",
       "      <th>d1</th>\n",
       "      <th>d2</th>\n",
       "      <th>d3</th>\n",
       "      <th>d4</th>\n",
       "      <th>label</th>\n",
       "      <th>d5</th>\n",
       "      <th>...</th>\n",
       "      <th>view_num_7</th>\n",
       "      <th>new_neighbor_ID_0</th>\n",
       "      <th>new_neighbor_ID_1</th>\n",
       "      <th>new_neighbor_ID_2</th>\n",
       "      <th>new_neighbor_ID_3</th>\n",
       "      <th>new_neighbor_ID_4</th>\n",
       "      <th>new_neighbor_ID_5</th>\n",
       "      <th>new_neighbor_ID_6</th>\n",
       "      <th>new_neighbor_ID_7</th>\n",
       "      <th>locfloor</th>\n",
       "    </tr>\n",
       "  </thead>\n",
       "  <tbody>\n",
       "    <tr>\n",
       "      <th>0</th>\n",
       "      <td>0-floor4_1-Sto</td>\n",
       "      <td>0</td>\n",
       "      <td>-1.000001</td>\n",
       "      <td>-0.200001</td>\n",
       "      <td>-1.025785</td>\n",
       "      <td>-0.097851</td>\n",
       "      <td>-1.000001</td>\n",
       "      <td>-0.200001</td>\n",
       "      <td>EV</td>\n",
       "      <td>1.205846e+09</td>\n",
       "      <td>...</td>\n",
       "      <td>0</td>\n",
       "      <td>1-floor4_1-Sto</td>\n",
       "      <td>2-floor4_1-Sto</td>\n",
       "      <td>-1-floor4_1-Sto</td>\n",
       "      <td>-1-floor4_1-Sto</td>\n",
       "      <td>-1-floor4_1-Sto</td>\n",
       "      <td>-1-floor4_1-Sto</td>\n",
       "      <td>-1-floor4_1-Sto</td>\n",
       "      <td>-1-floor4_1-Sto</td>\n",
       "      <td>Stockholm-floor4</td>\n",
       "    </tr>\n",
       "    <tr>\n",
       "      <th>1</th>\n",
       "      <td>1-floor4_1-Sto</td>\n",
       "      <td>0</td>\n",
       "      <td>-0.140001</td>\n",
       "      <td>0.259999</td>\n",
       "      <td>-0.303640</td>\n",
       "      <td>-0.002786</td>\n",
       "      <td>-0.200001</td>\n",
       "      <td>0.599999</td>\n",
       "      <td>EV</td>\n",
       "      <td>1.205846e+09</td>\n",
       "      <td>...</td>\n",
       "      <td>0</td>\n",
       "      <td>0-floor4_1-Sto</td>\n",
       "      <td>-1-floor4_1-Sto</td>\n",
       "      <td>-1-floor4_1-Sto</td>\n",
       "      <td>-1-floor4_1-Sto</td>\n",
       "      <td>-1-floor4_1-Sto</td>\n",
       "      <td>-1-floor4_1-Sto</td>\n",
       "      <td>-1-floor4_1-Sto</td>\n",
       "      <td>-1-floor4_1-Sto</td>\n",
       "      <td>Stockholm-floor4</td>\n",
       "    </tr>\n",
       "    <tr>\n",
       "      <th>2</th>\n",
       "      <td>2-floor4_1-Sto</td>\n",
       "      <td>0</td>\n",
       "      <td>-2.020001</td>\n",
       "      <td>-0.080001</td>\n",
       "      <td>-2.015833</td>\n",
       "      <td>-0.073241</td>\n",
       "      <td>-1.800001</td>\n",
       "      <td>-0.200001</td>\n",
       "      <td>DW</td>\n",
       "      <td>1.205846e+09</td>\n",
       "      <td>...</td>\n",
       "      <td>1</td>\n",
       "      <td>0-floor4_1-Sto</td>\n",
       "      <td>3-floor4_1-Sto</td>\n",
       "      <td>4-floor4_1-Sto</td>\n",
       "      <td>-1-floor4_1-Sto</td>\n",
       "      <td>-1-floor4_1-Sto</td>\n",
       "      <td>-1-floor4_1-Sto</td>\n",
       "      <td>-1-floor4_1-Sto</td>\n",
       "      <td>-1-floor4_1-Sto</td>\n",
       "      <td>Stockholm-floor4</td>\n",
       "    </tr>\n",
       "    <tr>\n",
       "      <th>3</th>\n",
       "      <td>3-floor4_1-Sto</td>\n",
       "      <td>0</td>\n",
       "      <td>-2.860001</td>\n",
       "      <td>0.499999</td>\n",
       "      <td>-3.019827</td>\n",
       "      <td>0.500790</td>\n",
       "      <td>-2.600001</td>\n",
       "      <td>0.599999</td>\n",
       "      <td>CR</td>\n",
       "      <td>1.205846e+09</td>\n",
       "      <td>...</td>\n",
       "      <td>0</td>\n",
       "      <td>2-floor4_1-Sto</td>\n",
       "      <td>4-floor4_1-Sto</td>\n",
       "      <td>6-floor4_1-Sto</td>\n",
       "      <td>9-floor4_1-Sto</td>\n",
       "      <td>-1-floor4_1-Sto</td>\n",
       "      <td>-1-floor4_1-Sto</td>\n",
       "      <td>-1-floor4_1-Sto</td>\n",
       "      <td>-1-floor4_1-Sto</td>\n",
       "      <td>Stockholm-floor4</td>\n",
       "    </tr>\n",
       "    <tr>\n",
       "      <th>4</th>\n",
       "      <td>4-floor4_1-Sto</td>\n",
       "      <td>0</td>\n",
       "      <td>-2.820001</td>\n",
       "      <td>-0.500001</td>\n",
       "      <td>-2.986465</td>\n",
       "      <td>-0.450972</td>\n",
       "      <td>-2.600001</td>\n",
       "      <td>-0.200001</td>\n",
       "      <td>CR</td>\n",
       "      <td>1.205846e+09</td>\n",
       "      <td>...</td>\n",
       "      <td>1</td>\n",
       "      <td>2-floor4_1-Sto</td>\n",
       "      <td>3-floor4_1-Sto</td>\n",
       "      <td>5-floor4_1-Sto</td>\n",
       "      <td>6-floor4_1-Sto</td>\n",
       "      <td>-1-floor4_1-Sto</td>\n",
       "      <td>-1-floor4_1-Sto</td>\n",
       "      <td>-1-floor4_1-Sto</td>\n",
       "      <td>-1-floor4_1-Sto</td>\n",
       "      <td>Stockholm-floor4</td>\n",
       "    </tr>\n",
       "  </tbody>\n",
       "</table>\n",
       "<p>5 rows × 43 columns</p>\n",
       "</div>"
      ],
      "text/plain": [
       "          node_id  placeholder         x         y        d1        d2  \\\n",
       "0  0-floor4_1-Sto            0 -1.000001 -0.200001 -1.025785 -0.097851   \n",
       "1  1-floor4_1-Sto            0 -0.140001  0.259999 -0.303640 -0.002786   \n",
       "2  2-floor4_1-Sto            0 -2.020001 -0.080001 -2.015833 -0.073241   \n",
       "3  3-floor4_1-Sto            0 -2.860001  0.499999 -3.019827  0.500790   \n",
       "4  4-floor4_1-Sto            0 -2.820001 -0.500001 -2.986465 -0.450972   \n",
       "\n",
       "         d3        d4 label            d5  ...  view_num_7  new_neighbor_ID_0  \\\n",
       "0 -1.000001 -0.200001    EV  1.205846e+09  ...           0     1-floor4_1-Sto   \n",
       "1 -0.200001  0.599999    EV  1.205846e+09  ...           0     0-floor4_1-Sto   \n",
       "2 -1.800001 -0.200001    DW  1.205846e+09  ...           1     0-floor4_1-Sto   \n",
       "3 -2.600001  0.599999    CR  1.205846e+09  ...           0     2-floor4_1-Sto   \n",
       "4 -2.600001 -0.200001    CR  1.205846e+09  ...           1     2-floor4_1-Sto   \n",
       "\n",
       "   new_neighbor_ID_1  new_neighbor_ID_2  new_neighbor_ID_3  new_neighbor_ID_4  \\\n",
       "0     2-floor4_1-Sto    -1-floor4_1-Sto    -1-floor4_1-Sto    -1-floor4_1-Sto   \n",
       "1    -1-floor4_1-Sto    -1-floor4_1-Sto    -1-floor4_1-Sto    -1-floor4_1-Sto   \n",
       "2     3-floor4_1-Sto     4-floor4_1-Sto    -1-floor4_1-Sto    -1-floor4_1-Sto   \n",
       "3     4-floor4_1-Sto     6-floor4_1-Sto     9-floor4_1-Sto    -1-floor4_1-Sto   \n",
       "4     3-floor4_1-Sto     5-floor4_1-Sto     6-floor4_1-Sto    -1-floor4_1-Sto   \n",
       "\n",
       "   new_neighbor_ID_5  new_neighbor_ID_6  new_neighbor_ID_7          locfloor  \n",
       "0    -1-floor4_1-Sto    -1-floor4_1-Sto    -1-floor4_1-Sto  Stockholm-floor4  \n",
       "1    -1-floor4_1-Sto    -1-floor4_1-Sto    -1-floor4_1-Sto  Stockholm-floor4  \n",
       "2    -1-floor4_1-Sto    -1-floor4_1-Sto    -1-floor4_1-Sto  Stockholm-floor4  \n",
       "3    -1-floor4_1-Sto    -1-floor4_1-Sto    -1-floor4_1-Sto  Stockholm-floor4  \n",
       "4    -1-floor4_1-Sto    -1-floor4_1-Sto    -1-floor4_1-Sto  Stockholm-floor4  \n",
       "\n",
       "[5 rows x 43 columns]"
      ]
     },
     "execution_count": 2,
     "metadata": {},
     "output_type": "execute_result"
    }
   ],
   "source": [
    "data_list = []\n",
    "flist = []\n",
    "def import_node_db():\n",
    "  global flist,data_list\n",
    "  data_list = [\"Stockholm\",\"Saarbrucken\",\"Freiburg\"]\n",
    "    \n",
    "  floor_list1 = [\"floor4_1\",\"floor4_2\",\"floor4_3\",\"floor4_4\",\"floor4_5\",\"floor4_6\",\"floor4_7\",\"floor4_8\",\n",
    "                   \"floor5_1\",\"floor5_2\",\"floor5_3\",\"floor5_4\",\"floor5_5\",\"floor5_6\",\"floor5_7\",\"floor5_8\",\n",
    "                   \"floor6_1\",\"floor6_2\",\"floor6_3\",\"floor6_4\",\"floor6_5\",\"floor6_6\",\"floor6_7\",\"floor6_8\",\"floor6_9\",\n",
    "                   \"floor6_10\",\"floor6_11\",\"floor6_12\",\"floor6_13\",\"floor6_14\",\"floor6_15\",\"floor6_16\",\"floor6_17\",\"floor6_18\",\n",
    "                   \"floor7_1\",\"floor7_2\",\"floor7_3\",\"floor7_4\",\"floor7_5\",\"floor7_6\",\"floor7_7\",\"floor7_8\"]\n",
    "\n",
    "  floor_list2 = [\"seq1_cloudy1\",\"seq1_cloudy2\",\"seq1_cloudy3\",\"seq1_night1\",\"seq1_night2\",\"seq1_night3\",\n",
    "                 \"seq2_cloudy1\",\"seq2_cloudy2\",\"seq2_cloudy3\",\"seq2_night1\",\"seq2_night2\",\"seq2_night3\",\n",
    "                 \"seq3_cloudy1\",\"seq3_cloudy2\",\"seq3_cloudy3\",\"seq3_cloudy4\",\"seq3_cloudy5\",\"seq3_night1\",\"seq3_night2\",\"seq3_night3\",\"seq3_sunny1\",\"seq3_sunny2\",\"seq3_sunny3\",\n",
    "                 \"seq4_cloudy1\",\"seq4_cloudy2\",\"seq4_cloudy3\",\"seq4_night1\",\"seq4_night2\",\"seq4_night3\",\"seq4_sunny1\",\"seq4_sunny2\",\"seq4_sunny3\"]\n",
    "\n",
    "  floor_list3 = [\"seq1_cloudy1\",\"seq1_cloudy2\",\"seq1_cloudy3\",\"seq1_night1\",\"seq1_night2\",\"seq1_night3\",\"seq1_sunny1\",\"seq1_sunny2\",\"seq1_sunny3\",\"seq1_sunny4\",\n",
    "                 \"seq2_cloudy1\",\"seq2_cloudy2\",\"seq2_cloudy3\",\"seq2_night1\",\"seq2_night2\",\"seq2_night3\",\"seq2_sunny1\",\"seq2_sunny2\",\"seq2_sunny3\",\"seq2_sunny4\",\n",
    "                 \"seq3_cloudy1\",\"seq3_cloudy2\",\"seq3_cloudy3\",\"seq3_sunny1\",\"seq3_sunny2\",\"seq3_sunny3\"]    \n",
    "\n",
    "  flist = [floor_list1,floor_list2,floor_list3]\n",
    "  # return flist\n",
    "  node_df_list = []\n",
    "  for i in range(3):\n",
    "    df_list = []\n",
    "    for j in flist[i]:\n",
    "      if(i==0):\n",
    "        p=6\n",
    "      else:\n",
    "        p=4\n",
    "      node_df1 = pd.read_table(\"F:/prooo/dataset/{}/{}/nodes.dat\".format(data_list[i],j),sep=\"\\s+\")\n",
    "      # node_df1['floor']=j\n",
    "      # node_df1['loc']=data_list[i]\n",
    "      for k in range(8):\n",
    "        node_df1[\"new_neighbor_ID_{}\".format(k)] = [str(col) +\"-\"+ str(j) + \"-\" + str(data_list[i][:3])  for col in node_df1[\"neighbor_ID_{}\".format(k)]]\n",
    "      # node_df1['locfloor']=data_list[i]+\"-\"+j\n",
    "      node_df1['node_id']=[str(col) +\"-\"+ str(j) + \"-\" + str(data_list[i][:3]) for col in node_df1['node_id']]\n",
    "      node_df1['locfloor']=data_list[i]+\"-\"+j[:p]\n",
    "      df_list.append(node_df1)\n",
    "    node_df_list.append(pd.concat(df_list,ignore_index=True))\n",
    "  main_list = pd.concat(node_df_list,ignore_index=True)\n",
    "  return main_list\n",
    "data = import_node_db()\n",
    "data.head()"
   ]
  },
  {
   "cell_type": "code",
   "execution_count": 3,
   "id": "78f6ef25-8260-4755-8662-743592b467a1",
   "metadata": {
    "executionInfo": {
     "elapsed": 153025,
     "status": "ok",
     "timestamp": 1682699902023,
     "user": {
      "displayName": "2022 11004",
      "userId": "15982028115013975822"
     },
     "user_tz": -330
    },
    "id": "BcN0VLaC_Bi0"
   },
   "outputs": [],
   "source": [
    "node_number = 0\n",
    "for i in data[\"node_id\"]:\n",
    "  # print(i)\n",
    "  data = data.replace(i,node_number)\n",
    "  node_number = node_number + 1"
   ]
  },
  {
   "cell_type": "markdown",
   "id": "d19c4dd3",
   "metadata": {},
   "source": [
    "### Fixing \"neighbor_id\" according node_id"
   ]
  },
  {
   "cell_type": "code",
   "execution_count": 4,
   "id": "21639dbd-483d-434f-9ded-57e5708ed29e",
   "metadata": {
    "executionInfo": {
     "elapsed": 2668,
     "status": "ok",
     "timestamp": 1682699904676,
     "user": {
      "displayName": "2022 11004",
      "userId": "15982028115013975822"
     },
     "user_tz": -330
    },
    "id": "FiQdU79vhfnc"
   },
   "outputs": [],
   "source": [
    "for i in data_list:\n",
    "  for j in flist:\n",
    "    for k in j:\n",
    "      data.replace(str(-1)+\"-\"+k+\"-\"+i[:3],-1,inplace=True)"
   ]
  },
  {
   "cell_type": "code",
   "execution_count": 5,
   "id": "f7c23ff1-c09c-462b-8a22-379fde38ae0d",
   "metadata": {},
   "outputs": [
    {
     "name": "stdout",
     "output_type": "stream",
     "text": [
      "<class 'pandas.core.frame.DataFrame'>\n",
      "RangeIndex: 12009 entries, 0 to 12008\n",
      "Data columns (total 43 columns):\n",
      " #   Column             Non-Null Count  Dtype  \n",
      "---  ------             --------------  -----  \n",
      " 0   node_id            12009 non-null  int64  \n",
      " 1   placeholder        12009 non-null  int64  \n",
      " 2   x                  12009 non-null  float64\n",
      " 3   y                  12009 non-null  float64\n",
      " 4   d1                 12009 non-null  float64\n",
      " 5   d2                 12009 non-null  float64\n",
      " 6   d3                 12009 non-null  float64\n",
      " 7   d4                 12009 non-null  float64\n",
      " 8   label              12009 non-null  object \n",
      " 9   d5                 12009 non-null  float64\n",
      " 10  neighbor_ID_0      12009 non-null  int64  \n",
      " 11  affordance_0       12009 non-null  float64\n",
      " 12  view_num_0         12009 non-null  int64  \n",
      " 13  neighbor_ID_1      12009 non-null  int64  \n",
      " 14  affordance_1       12009 non-null  float64\n",
      " 15  view_num_1         12009 non-null  int64  \n",
      " 16  neighbor_ID_2      12009 non-null  int64  \n",
      " 17  affordance_2       12009 non-null  float64\n",
      " 18  view_num_2         12009 non-null  int64  \n",
      " 19  neighbor_ID_3      12009 non-null  int64  \n",
      " 20  affordance_3       12009 non-null  float64\n",
      " 21  view_num_3         12009 non-null  int64  \n",
      " 22  neighbor_ID_4      12009 non-null  int64  \n",
      " 23  affordance_4       12009 non-null  float64\n",
      " 24  view_num_4         12009 non-null  int64  \n",
      " 25  neighbor_ID_5      12009 non-null  int64  \n",
      " 26  affordance_5       12009 non-null  float64\n",
      " 27  view_num_5         12009 non-null  int64  \n",
      " 28  neighbor_ID_6      12009 non-null  int64  \n",
      " 29  affordance_6       12009 non-null  float64\n",
      " 30  view_num_6         12009 non-null  int64  \n",
      " 31  neighbor_ID_7      12009 non-null  int64  \n",
      " 32  affordance_7       12009 non-null  float64\n",
      " 33  view_num_7         12009 non-null  int64  \n",
      " 34  new_neighbor_ID_0  12009 non-null  int64  \n",
      " 35  new_neighbor_ID_1  12009 non-null  int64  \n",
      " 36  new_neighbor_ID_2  12009 non-null  int64  \n",
      " 37  new_neighbor_ID_3  12009 non-null  int64  \n",
      " 38  new_neighbor_ID_4  12009 non-null  int64  \n",
      " 39  new_neighbor_ID_5  12009 non-null  int64  \n",
      " 40  new_neighbor_ID_6  12009 non-null  int64  \n",
      " 41  new_neighbor_ID_7  12009 non-null  int64  \n",
      " 42  locfloor           12009 non-null  object \n",
      "dtypes: float64(15), int64(26), object(2)\n",
      "memory usage: 3.9+ MB\n"
     ]
    }
   ],
   "source": [
    "data.info()"
   ]
  },
  {
   "cell_type": "markdown",
   "id": "1cfd08e0",
   "metadata": {},
   "source": [
    "### Dropping out unnecessary columns"
   ]
  },
  {
   "cell_type": "code",
   "execution_count": 6,
   "id": "c23c45c9-1515-425c-9fce-31633ae9e2bd",
   "metadata": {},
   "outputs": [],
   "source": [
    "df = data.drop(['d1','d2','d3','d4','d5','neighbor_ID_0','neighbor_ID_1','neighbor_ID_2','neighbor_ID_3','neighbor_ID_4','neighbor_ID_5','neighbor_ID_6','neighbor_ID_7'], axis=1)"
   ]
  },
  {
   "cell_type": "code",
   "execution_count": 7,
   "id": "1ad74aae",
   "metadata": {},
   "outputs": [
    {
     "name": "stdout",
     "output_type": "stream",
     "text": [
      "<class 'pandas.core.frame.DataFrame'>\n",
      "RangeIndex: 12009 entries, 0 to 12008\n",
      "Data columns (total 30 columns):\n",
      " #   Column             Non-Null Count  Dtype  \n",
      "---  ------             --------------  -----  \n",
      " 0   node_id            12009 non-null  int64  \n",
      " 1   placeholder        12009 non-null  int64  \n",
      " 2   x                  12009 non-null  float64\n",
      " 3   y                  12009 non-null  float64\n",
      " 4   label              12009 non-null  object \n",
      " 5   affordance_0       12009 non-null  float64\n",
      " 6   view_num_0         12009 non-null  int64  \n",
      " 7   affordance_1       12009 non-null  float64\n",
      " 8   view_num_1         12009 non-null  int64  \n",
      " 9   affordance_2       12009 non-null  float64\n",
      " 10  view_num_2         12009 non-null  int64  \n",
      " 11  affordance_3       12009 non-null  float64\n",
      " 12  view_num_3         12009 non-null  int64  \n",
      " 13  affordance_4       12009 non-null  float64\n",
      " 14  view_num_4         12009 non-null  int64  \n",
      " 15  affordance_5       12009 non-null  float64\n",
      " 16  view_num_5         12009 non-null  int64  \n",
      " 17  affordance_6       12009 non-null  float64\n",
      " 18  view_num_6         12009 non-null  int64  \n",
      " 19  affordance_7       12009 non-null  float64\n",
      " 20  view_num_7         12009 non-null  int64  \n",
      " 21  new_neighbor_ID_0  12009 non-null  int64  \n",
      " 22  new_neighbor_ID_1  12009 non-null  int64  \n",
      " 23  new_neighbor_ID_2  12009 non-null  int64  \n",
      " 24  new_neighbor_ID_3  12009 non-null  int64  \n",
      " 25  new_neighbor_ID_4  12009 non-null  int64  \n",
      " 26  new_neighbor_ID_5  12009 non-null  int64  \n",
      " 27  new_neighbor_ID_6  12009 non-null  int64  \n",
      " 28  new_neighbor_ID_7  12009 non-null  int64  \n",
      " 29  locfloor           12009 non-null  object \n",
      "dtypes: float64(10), int64(18), object(2)\n",
      "memory usage: 2.7+ MB\n"
     ]
    }
   ],
   "source": [
    "df.info()"
   ]
  },
  {
   "cell_type": "code",
   "execution_count": 8,
   "id": "1df9be77",
   "metadata": {},
   "outputs": [
    {
     "data": {
      "text/plain": [
       "(22,)"
      ]
     },
     "execution_count": 8,
     "metadata": {},
     "output_type": "execute_result"
    }
   ],
   "source": [
    "y = np.array(df['label'])\n",
    "df['label'].unique().shape"
   ]
  },
  {
   "cell_type": "code",
   "execution_count": 9,
   "id": "b02e5acf",
   "metadata": {},
   "outputs": [],
   "source": [
    "import numpy as np\n",
    "import keras\n",
    "from keras.models import Sequential\n",
    "from keras.layers import Dense, Conv1D, MaxPooling1D, Flatten\n",
    "from keras.utils import to_categorical"
   ]
  },
  {
   "cell_type": "code",
   "execution_count": 10,
   "id": "805f0875",
   "metadata": {},
   "outputs": [
    {
     "name": "stdout",
     "output_type": "stream",
     "text": [
      "<class 'pandas.core.frame.DataFrame'>\n",
      "RangeIndex: 12009 entries, 0 to 12008\n",
      "Data columns (total 30 columns):\n",
      " #   Column             Non-Null Count  Dtype  \n",
      "---  ------             --------------  -----  \n",
      " 0   node_id            12009 non-null  int64  \n",
      " 1   placeholder        12009 non-null  int64  \n",
      " 2   x                  12009 non-null  float64\n",
      " 3   y                  12009 non-null  float64\n",
      " 4   label              12009 non-null  object \n",
      " 5   affordance_0       12009 non-null  float64\n",
      " 6   view_num_0         12009 non-null  int64  \n",
      " 7   affordance_1       12009 non-null  float64\n",
      " 8   view_num_1         12009 non-null  int64  \n",
      " 9   affordance_2       12009 non-null  float64\n",
      " 10  view_num_2         12009 non-null  int64  \n",
      " 11  affordance_3       12009 non-null  float64\n",
      " 12  view_num_3         12009 non-null  int64  \n",
      " 13  affordance_4       12009 non-null  float64\n",
      " 14  view_num_4         12009 non-null  int64  \n",
      " 15  affordance_5       12009 non-null  float64\n",
      " 16  view_num_5         12009 non-null  int64  \n",
      " 17  affordance_6       12009 non-null  float64\n",
      " 18  view_num_6         12009 non-null  int64  \n",
      " 19  affordance_7       12009 non-null  float64\n",
      " 20  view_num_7         12009 non-null  int64  \n",
      " 21  new_neighbor_ID_0  12009 non-null  int64  \n",
      " 22  new_neighbor_ID_1  12009 non-null  int64  \n",
      " 23  new_neighbor_ID_2  12009 non-null  int64  \n",
      " 24  new_neighbor_ID_3  12009 non-null  int64  \n",
      " 25  new_neighbor_ID_4  12009 non-null  int64  \n",
      " 26  new_neighbor_ID_5  12009 non-null  int64  \n",
      " 27  new_neighbor_ID_6  12009 non-null  int64  \n",
      " 28  new_neighbor_ID_7  12009 non-null  int64  \n",
      " 29  locfloor           12009 non-null  int32  \n",
      "dtypes: float64(10), int32(1), int64(18), object(1)\n",
      "memory usage: 2.7+ MB\n"
     ]
    }
   ],
   "source": [
    "label_encoder = preprocessing.LabelEncoder()\n",
    "  \n",
    "# Encode labels in column 'species'.\n",
    "df['locfloor']= label_encoder.fit_transform(df['locfloor'])\n",
    "\n",
    "df.info()"
   ]
  },
  {
   "cell_type": "code",
   "execution_count": 11,
   "id": "205a7cec",
   "metadata": {},
   "outputs": [],
   "source": [
    "def encode_onehot(labels):\n",
    "    classes = set(labels)\n",
    "    classes_dict = {c: np.identity(len(classes))[i, :] for i, c in enumerate(classes)}\n",
    "    labels_onehot = np.array(list(map(classes_dict.get, labels)), dtype=np.int32)\n",
    "    return labels_onehot"
   ]
  },
  {
   "cell_type": "code",
   "execution_count": 12,
   "id": "d2ed25e8",
   "metadata": {},
   "outputs": [
    {
     "data": {
      "text/plain": [
       "(12009, 22)"
      ]
     },
     "execution_count": 12,
     "metadata": {},
     "output_type": "execute_result"
    }
   ],
   "source": [
    "labels = encode_onehot(np.array(df['label']))\n",
    "labels.shape"
   ]
  },
  {
   "cell_type": "code",
   "execution_count": 13,
   "id": "7967be71",
   "metadata": {},
   "outputs": [
    {
     "name": "stdout",
     "output_type": "stream",
     "text": [
      "<class 'pandas.core.frame.DataFrame'>\n",
      "RangeIndex: 12009 entries, 0 to 12008\n",
      "Data columns (total 29 columns):\n",
      " #   Column             Non-Null Count  Dtype  \n",
      "---  ------             --------------  -----  \n",
      " 0   node_id            12009 non-null  int64  \n",
      " 1   placeholder        12009 non-null  int64  \n",
      " 2   x                  12009 non-null  float64\n",
      " 3   y                  12009 non-null  float64\n",
      " 4   affordance_0       12009 non-null  float64\n",
      " 5   view_num_0         12009 non-null  int64  \n",
      " 6   affordance_1       12009 non-null  float64\n",
      " 7   view_num_1         12009 non-null  int64  \n",
      " 8   affordance_2       12009 non-null  float64\n",
      " 9   view_num_2         12009 non-null  int64  \n",
      " 10  affordance_3       12009 non-null  float64\n",
      " 11  view_num_3         12009 non-null  int64  \n",
      " 12  affordance_4       12009 non-null  float64\n",
      " 13  view_num_4         12009 non-null  int64  \n",
      " 14  affordance_5       12009 non-null  float64\n",
      " 15  view_num_5         12009 non-null  int64  \n",
      " 16  affordance_6       12009 non-null  float64\n",
      " 17  view_num_6         12009 non-null  int64  \n",
      " 18  affordance_7       12009 non-null  float64\n",
      " 19  view_num_7         12009 non-null  int64  \n",
      " 20  new_neighbor_ID_0  12009 non-null  int64  \n",
      " 21  new_neighbor_ID_1  12009 non-null  int64  \n",
      " 22  new_neighbor_ID_2  12009 non-null  int64  \n",
      " 23  new_neighbor_ID_3  12009 non-null  int64  \n",
      " 24  new_neighbor_ID_4  12009 non-null  int64  \n",
      " 25  new_neighbor_ID_5  12009 non-null  int64  \n",
      " 26  new_neighbor_ID_6  12009 non-null  int64  \n",
      " 27  new_neighbor_ID_7  12009 non-null  int64  \n",
      " 28  locfloor           12009 non-null  int32  \n",
      "dtypes: float64(10), int32(1), int64(18)\n",
      "memory usage: 2.6 MB\n"
     ]
    }
   ],
   "source": [
    "df = df.drop(['label'],axis = 1)\n",
    "df.info()"
   ]
  },
  {
   "cell_type": "code",
   "execution_count": null,
   "id": "8c646000",
   "metadata": {},
   "outputs": [],
   "source": []
  },
  {
   "cell_type": "code",
   "execution_count": 14,
   "id": "6cac6be9",
   "metadata": {},
   "outputs": [],
   "source": [
    "def get_edge(data):\n",
    "  edges = []\n",
    "  if(data.new_neighbor_ID_0!=0):\n",
    "    edges.append([data.node_id,data.new_neighbor_ID_0])\n",
    "  else:\n",
    "    pass\n",
    "  if(data.new_neighbor_ID_1!=-1):\n",
    "    edges.append([data.node_id,data.new_neighbor_ID_1])\n",
    "  else:\n",
    "    pass\n",
    "  if(data.new_neighbor_ID_2!=-1):\n",
    "    edges.append([data.node_id,data.new_neighbor_ID_2])\n",
    "  else:\n",
    "    pass\n",
    "  if(data.new_neighbor_ID_3!=-1):\n",
    "    edges.append([data.node_id,data.new_neighbor_ID_3])\n",
    "  else:\n",
    "    pass\n",
    "  if(data.new_neighbor_ID_4!=-1):\n",
    "    edges.append([data.node_id,data.new_neighbor_ID_4])\n",
    "  else:\n",
    "    pass\n",
    "  if(data.new_neighbor_ID_5!=-1):\n",
    "    edges.append([data.node_id,data.new_neighbor_ID_5])\n",
    "  else:\n",
    "    pass\n",
    "  if(data.new_neighbor_ID_6!=-1):\n",
    "    edges.append([data.node_id,data.new_neighbor_ID_6])\n",
    "  else:\n",
    "    pass\n",
    "  if(data.new_neighbor_ID_7!=-1):\n",
    "    edges.append([data.node_id,data.new_neighbor_ID_7])\n",
    "  else:\n",
    "    pass\n",
    "  return edges"
   ]
  },
  {
   "cell_type": "code",
   "execution_count": 15,
   "id": "4349bf07",
   "metadata": {},
   "outputs": [
    {
     "data": {
      "text/plain": [
       "(42783, 2)"
      ]
     },
     "execution_count": 15,
     "metadata": {},
     "output_type": "execute_result"
    }
   ],
   "source": [
    "graph_edges = []\n",
    "for i,raw_data in df.iterrows():\n",
    "  graph_edges.extend(get_edge(raw_data))\n",
    "edges_unordered = np.array(graph_edges)\n",
    "edges_unordered.shape"
   ]
  },
  {
   "cell_type": "code",
   "execution_count": 16,
   "id": "933d523c",
   "metadata": {},
   "outputs": [
    {
     "data": {
      "text/plain": [
       "(12009, 12009)"
      ]
     },
     "execution_count": 16,
     "metadata": {},
     "output_type": "execute_result"
    }
   ],
   "source": [
    "# Initialize the adjacency matrix\n",
    "A = np.zeros((12009, 12009))\n",
    "A.shape"
   ]
  },
  {
   "cell_type": "code",
   "execution_count": 17,
   "id": "6497d955",
   "metadata": {},
   "outputs": [
    {
     "name": "stdout",
     "output_type": "stream",
     "text": [
      "[[0. 1. 1. ... 0. 0. 0.]\n",
      " [0. 0. 0. ... 0. 0. 0.]\n",
      " [0. 0. 0. ... 0. 0. 0.]\n",
      " ...\n",
      " [0. 0. 0. ... 0. 1. 1.]\n",
      " [0. 0. 0. ... 1. 0. 0.]\n",
      " [0. 0. 0. ... 1. 0. 0.]]\n"
     ]
    }
   ],
   "source": [
    "for edge in graph_edges:\n",
    "    A[int(edge[0]), int(edge[1])] = 1\n",
    "\n",
    "# Print the adjacency matrix\n",
    "print(A)"
   ]
  },
  {
   "cell_type": "code",
   "execution_count": 18,
   "id": "d80b3973",
   "metadata": {},
   "outputs": [
    {
     "name": "stdout",
     "output_type": "stream",
     "text": [
      "Requirement already satisfied: spektral in c:\\users\\jigar\\appdata\\local\\programs\\python\\python37\\lib\\site-packages (1.2.0)\n",
      "Requirement already satisfied: joblib in c:\\users\\jigar\\appdata\\local\\programs\\python\\python37\\lib\\site-packages (from spektral) (1.2.0)\n",
      "Requirement already satisfied: lxml in c:\\users\\jigar\\appdata\\local\\programs\\python\\python37\\lib\\site-packages (from spektral) (4.9.2)\n",
      "Requirement already satisfied: networkx in c:\\users\\jigar\\appdata\\local\\programs\\python\\python37\\lib\\site-packages (from spektral) (2.6.3)\n",
      "Requirement already satisfied: numpy in c:\\users\\jigar\\appdata\\local\\programs\\python\\python37\\lib\\site-packages (from spektral) (1.21.6)\n",
      "Requirement already satisfied: pandas in c:\\users\\jigar\\appdata\\local\\programs\\python\\python37\\lib\\site-packages (from spektral) (1.3.5)\n",
      "Requirement already satisfied: requests in c:\\users\\jigar\\appdata\\local\\programs\\python\\python37\\lib\\site-packages (from spektral) (2.28.1)\n",
      "Requirement already satisfied: scikit-learn in c:\\users\\jigar\\appdata\\local\\programs\\python\\python37\\lib\\site-packages (from spektral) (1.0.2)\n",
      "Requirement already satisfied: scipy in c:\\users\\jigar\\appdata\\local\\programs\\python\\python37\\lib\\site-packages (from spektral) (1.7.3)\n",
      "Requirement already satisfied: tensorflow>=2.2.0 in c:\\users\\jigar\\appdata\\local\\programs\\python\\python37\\lib\\site-packages (from spektral) (2.11.0)\n",
      "Requirement already satisfied: tqdm in c:\\users\\jigar\\appdata\\local\\programs\\python\\python37\\lib\\site-packages (from spektral) (4.64.1)\n",
      "Requirement already satisfied: tensorflow-intel==2.11.0 in c:\\users\\jigar\\appdata\\local\\programs\\python\\python37\\lib\\site-packages (from tensorflow>=2.2.0->spektral) (2.11.0)\n",
      "Requirement already satisfied: absl-py>=1.0.0 in c:\\users\\jigar\\appdata\\local\\programs\\python\\python37\\lib\\site-packages (from tensorflow-intel==2.11.0->tensorflow>=2.2.0->spektral) (1.3.0)\n",
      "Requirement already satisfied: astunparse>=1.6.0 in c:\\users\\jigar\\appdata\\local\\programs\\python\\python37\\lib\\site-packages (from tensorflow-intel==2.11.0->tensorflow>=2.2.0->spektral) (1.6.3)\n",
      "Requirement already satisfied: flatbuffers>=2.0 in c:\\users\\jigar\\appdata\\local\\programs\\python\\python37\\lib\\site-packages (from tensorflow-intel==2.11.0->tensorflow>=2.2.0->spektral) (23.1.4)\n",
      "Requirement already satisfied: gast<=0.4.0,>=0.2.1 in c:\\users\\jigar\\appdata\\local\\programs\\python\\python37\\lib\\site-packages (from tensorflow-intel==2.11.0->tensorflow>=2.2.0->spektral) (0.4.0)\n",
      "Requirement already satisfied: google-pasta>=0.1.1 in c:\\users\\jigar\\appdata\\local\\programs\\python\\python37\\lib\\site-packages (from tensorflow-intel==2.11.0->tensorflow>=2.2.0->spektral) (0.2.0)\n",
      "Requirement already satisfied: h5py>=2.9.0 in c:\\users\\jigar\\appdata\\local\\programs\\python\\python37\\lib\\site-packages (from tensorflow-intel==2.11.0->tensorflow>=2.2.0->spektral) (3.7.0)\n",
      "Requirement already satisfied: libclang>=13.0.0 in c:\\users\\jigar\\appdata\\local\\programs\\python\\python37\\lib\\site-packages (from tensorflow-intel==2.11.0->tensorflow>=2.2.0->spektral) (15.0.6.1)\n",
      "Requirement already satisfied: opt-einsum>=2.3.2 in c:\\users\\jigar\\appdata\\local\\programs\\python\\python37\\lib\\site-packages (from tensorflow-intel==2.11.0->tensorflow>=2.2.0->spektral) (3.3.0)\n",
      "Requirement already satisfied: packaging in c:\\users\\jigar\\appdata\\local\\programs\\python\\python37\\lib\\site-packages (from tensorflow-intel==2.11.0->tensorflow>=2.2.0->spektral) (23.0)\n",
      "Requirement already satisfied: protobuf<3.20,>=3.9.2 in c:\\users\\jigar\\appdata\\local\\programs\\python\\python37\\lib\\site-packages (from tensorflow-intel==2.11.0->tensorflow>=2.2.0->spektral) (3.19.6)\n",
      "Requirement already satisfied: setuptools in c:\\users\\jigar\\appdata\\local\\programs\\python\\python37\\lib\\site-packages (from tensorflow-intel==2.11.0->tensorflow>=2.2.0->spektral) (66.0.0)\n",
      "Requirement already satisfied: six>=1.12.0 in c:\\users\\jigar\\appdata\\local\\programs\\python\\python37\\lib\\site-packages (from tensorflow-intel==2.11.0->tensorflow>=2.2.0->spektral) (1.16.0)\n",
      "Requirement already satisfied: termcolor>=1.1.0 in c:\\users\\jigar\\appdata\\local\\programs\\python\\python37\\lib\\site-packages (from tensorflow-intel==2.11.0->tensorflow>=2.2.0->spektral) (2.2.0)\n",
      "Requirement already satisfied: typing-extensions>=3.6.6 in c:\\users\\jigar\\appdata\\local\\programs\\python\\python37\\lib\\site-packages (from tensorflow-intel==2.11.0->tensorflow>=2.2.0->spektral) (4.4.0)\n",
      "Requirement already satisfied: wrapt>=1.11.0 in c:\\users\\jigar\\appdata\\local\\programs\\python\\python37\\lib\\site-packages (from tensorflow-intel==2.11.0->tensorflow>=2.2.0->spektral) (1.14.1)\n",
      "Requirement already satisfied: grpcio<2.0,>=1.24.3 in c:\\users\\jigar\\appdata\\local\\programs\\python\\python37\\lib\\site-packages (from tensorflow-intel==2.11.0->tensorflow>=2.2.0->spektral) (1.51.1)\n",
      "Requirement already satisfied: tensorboard<2.12,>=2.11 in c:\\users\\jigar\\appdata\\local\\programs\\python\\python37\\lib\\site-packages (from tensorflow-intel==2.11.0->tensorflow>=2.2.0->spektral) (2.11.0)\n",
      "Requirement already satisfied: tensorflow-estimator<2.12,>=2.11.0 in c:\\users\\jigar\\appdata\\local\\programs\\python\\python37\\lib\\site-packages (from tensorflow-intel==2.11.0->tensorflow>=2.2.0->spektral) (2.11.0)\n",
      "Requirement already satisfied: keras<2.12,>=2.11.0 in c:\\users\\jigar\\appdata\\local\\programs\\python\\python37\\lib\\site-packages (from tensorflow-intel==2.11.0->tensorflow>=2.2.0->spektral) (2.11.0)\n",
      "Requirement already satisfied: tensorflow-io-gcs-filesystem>=0.23.1 in c:\\users\\jigar\\appdata\\local\\programs\\python\\python37\\lib\\site-packages (from tensorflow-intel==2.11.0->tensorflow>=2.2.0->spektral) (0.29.0)\n",
      "Requirement already satisfied: python-dateutil>=2.7.3 in c:\\users\\jigar\\appdata\\local\\programs\\python\\python37\\lib\\site-packages (from pandas->spektral) (2.8.2)\n",
      "Requirement already satisfied: pytz>=2017.3 in c:\\users\\jigar\\appdata\\local\\programs\\python\\python37\\lib\\site-packages (from pandas->spektral) (2022.7.1)\n",
      "Requirement already satisfied: charset-normalizer<3,>=2 in c:\\users\\jigar\\appdata\\local\\programs\\python\\python37\\lib\\site-packages (from requests->spektral) (2.1.1)\n",
      "Requirement already satisfied: idna<4,>=2.5 in c:\\users\\jigar\\appdata\\local\\programs\\python\\python37\\lib\\site-packages (from requests->spektral) (3.4)\n",
      "Requirement already satisfied: urllib3<1.27,>=1.21.1 in c:\\users\\jigar\\appdata\\local\\programs\\python\\python37\\lib\\site-packages (from requests->spektral) (1.26.13)\n",
      "Requirement already satisfied: certifi>=2017.4.17 in c:\\users\\jigar\\appdata\\local\\programs\\python\\python37\\lib\\site-packages (from requests->spektral) (2022.12.7)\n",
      "Requirement already satisfied: threadpoolctl>=2.0.0 in c:\\users\\jigar\\appdata\\local\\programs\\python\\python37\\lib\\site-packages (from scikit-learn->spektral) (3.1.0)\n",
      "Requirement already satisfied: colorama in c:\\users\\jigar\\appdata\\local\\programs\\python\\python37\\lib\\site-packages (from tqdm->spektral) (0.4.6)\n",
      "Requirement already satisfied: wheel<1.0,>=0.23.0 in c:\\users\\jigar\\appdata\\local\\programs\\python\\python37\\lib\\site-packages (from astunparse>=1.6.0->tensorflow-intel==2.11.0->tensorflow>=2.2.0->spektral) (0.38.4)\n",
      "Requirement already satisfied: google-auth<3,>=1.6.3 in c:\\users\\jigar\\appdata\\local\\programs\\python\\python37\\lib\\site-packages (from tensorboard<2.12,>=2.11->tensorflow-intel==2.11.0->tensorflow>=2.2.0->spektral) (2.15.0)\n",
      "Requirement already satisfied: google-auth-oauthlib<0.5,>=0.4.1 in c:\\users\\jigar\\appdata\\local\\programs\\python\\python37\\lib\\site-packages (from tensorboard<2.12,>=2.11->tensorflow-intel==2.11.0->tensorflow>=2.2.0->spektral) (0.4.6)\n",
      "Requirement already satisfied: markdown>=2.6.8 in c:\\users\\jigar\\appdata\\local\\programs\\python\\python37\\lib\\site-packages (from tensorboard<2.12,>=2.11->tensorflow-intel==2.11.0->tensorflow>=2.2.0->spektral) (3.4.1)\n",
      "Requirement already satisfied: tensorboard-data-server<0.7.0,>=0.6.0 in c:\\users\\jigar\\appdata\\local\\programs\\python\\python37\\lib\\site-packages (from tensorboard<2.12,>=2.11->tensorflow-intel==2.11.0->tensorflow>=2.2.0->spektral) (0.6.1)\n",
      "Requirement already satisfied: tensorboard-plugin-wit>=1.6.0 in c:\\users\\jigar\\appdata\\local\\programs\\python\\python37\\lib\\site-packages (from tensorboard<2.12,>=2.11->tensorflow-intel==2.11.0->tensorflow>=2.2.0->spektral) (1.8.1)\n",
      "Requirement already satisfied: werkzeug>=1.0.1 in c:\\users\\jigar\\appdata\\local\\programs\\python\\python37\\lib\\site-packages (from tensorboard<2.12,>=2.11->tensorflow-intel==2.11.0->tensorflow>=2.2.0->spektral) (2.2.2)\n",
      "Requirement already satisfied: cachetools<6.0,>=2.0.0 in c:\\users\\jigar\\appdata\\local\\programs\\python\\python37\\lib\\site-packages (from google-auth<3,>=1.6.3->tensorboard<2.12,>=2.11->tensorflow-intel==2.11.0->tensorflow>=2.2.0->spektral) (5.2.1)\n",
      "Requirement already satisfied: pyasn1-modules>=0.2.1 in c:\\users\\jigar\\appdata\\local\\programs\\python\\python37\\lib\\site-packages (from google-auth<3,>=1.6.3->tensorboard<2.12,>=2.11->tensorflow-intel==2.11.0->tensorflow>=2.2.0->spektral) (0.2.8)\n",
      "Requirement already satisfied: rsa<5,>=3.1.4 in c:\\users\\jigar\\appdata\\local\\programs\\python\\python37\\lib\\site-packages (from google-auth<3,>=1.6.3->tensorboard<2.12,>=2.11->tensorflow-intel==2.11.0->tensorflow>=2.2.0->spektral) (4.9)\n",
      "Requirement already satisfied: requests-oauthlib>=0.7.0 in c:\\users\\jigar\\appdata\\local\\programs\\python\\python37\\lib\\site-packages (from google-auth-oauthlib<0.5,>=0.4.1->tensorboard<2.12,>=2.11->tensorflow-intel==2.11.0->tensorflow>=2.2.0->spektral) (1.3.1)\n",
      "Requirement already satisfied: importlib-metadata>=4.4 in c:\\users\\jigar\\appdata\\local\\programs\\python\\python37\\lib\\site-packages (from markdown>=2.6.8->tensorboard<2.12,>=2.11->tensorflow-intel==2.11.0->tensorflow>=2.2.0->spektral) (6.0.0)\n",
      "Requirement already satisfied: MarkupSafe>=2.1.1 in c:\\users\\jigar\\appdata\\local\\programs\\python\\python37\\lib\\site-packages (from werkzeug>=1.0.1->tensorboard<2.12,>=2.11->tensorflow-intel==2.11.0->tensorflow>=2.2.0->spektral) (2.1.1)\n",
      "Requirement already satisfied: zipp>=0.5 in c:\\users\\jigar\\appdata\\local\\programs\\python\\python37\\lib\\site-packages (from importlib-metadata>=4.4->markdown>=2.6.8->tensorboard<2.12,>=2.11->tensorflow-intel==2.11.0->tensorflow>=2.2.0->spektral) (3.11.0)\n",
      "Requirement already satisfied: pyasn1<0.5.0,>=0.4.6 in c:\\users\\jigar\\appdata\\local\\programs\\python\\python37\\lib\\site-packages (from pyasn1-modules>=0.2.1->google-auth<3,>=1.6.3->tensorboard<2.12,>=2.11->tensorflow-intel==2.11.0->tensorflow>=2.2.0->spektral) (0.4.8)\n",
      "Requirement already satisfied: oauthlib>=3.0.0 in c:\\users\\jigar\\appdata\\local\\programs\\python\\python37\\lib\\site-packages (from requests-oauthlib>=0.7.0->google-auth-oauthlib<0.5,>=0.4.1->tensorboard<2.12,>=2.11->tensorflow-intel==2.11.0->tensorflow>=2.2.0->spektral) (3.2.2)\n"
     ]
    }
   ],
   "source": [
    "!pip install spektral"
   ]
  },
  {
   "cell_type": "code",
   "execution_count": 19,
   "id": "bcf46840",
   "metadata": {},
   "outputs": [
    {
     "name": "stdout",
     "output_type": "stream",
     "text": [
      "(12009, 29)\n"
     ]
    }
   ],
   "source": [
    "import numpy as np\n",
    "from sklearn.model_selection import train_test_split\n",
    "X = np.array(df)\n",
    "print(X.shape)\n",
    "# X = np.reshape(X, (12009, 29, 1))\n",
    "# Split the data into training and test sets\n",
    "X_train, X_test,A_train,A_test, y_train, y_test = train_test_split(X,A,labels, test_size=0.2, random_state=42)\n",
    "# Split the training data into training and validation sets\n",
    "X_train, X_val,A_train,A_val, y_train, y_val = train_test_split(X_train,A_train, y_train, test_size=0.2, random_state=42)"
   ]
  },
  {
   "cell_type": "code",
   "execution_count": 20,
   "id": "f2715056",
   "metadata": {},
   "outputs": [],
   "source": [
    "import numpy as np\n",
    "import tensorflow as tf\n",
    "from tensorflow.keras.layers import Input, Dense, Dropout\n",
    "from tensorflow.keras.models import Model\n",
    "from tensorflow.keras.optimizers import Adam\n",
    "from tensorflow.keras.callbacks import EarlyStopping\n",
    "from spektral.layers import GCNConv\n",
    "\n",
    "X_in = Input(shape=(X_train.shape[1],))\n",
    "A_in = Input((None,), sparse=True)\n",
    "\n",
    "X_1 = GCNConv(29, activation='relu')([X_in, A_in])\n",
    "X_1 = Dropout(0.5)(X_1)\n",
    "X_2 = GCNConv(16, activation='relu')([X_1, A_in])\n",
    "X_2 = Dropout(0.5)(X_2)\n",
    "output = Dense(22, activation='softmax')(X_2)\n",
    "\n",
    "model = Model(inputs=[X_in, A_in], outputs=output)"
   ]
  },
  {
   "cell_type": "code",
   "execution_count": 21,
   "id": "e62dff99",
   "metadata": {},
   "outputs": [
    {
     "name": "stderr",
     "output_type": "stream",
     "text": [
      "WARNING:absl:`lr` is deprecated, please use `learning_rate` instead, or use the legacy optimizer, e.g.,tf.keras.optimizers.legacy.Adam.\n"
     ]
    }
   ],
   "source": [
    "optimizer = Adam(lr=0.01)\n",
    "model.compile(optimizer=optimizer, loss='categorical_crossentropy', metrics=['accuracy'])"
   ]
  },
  {
   "cell_type": "code",
   "execution_count": 28,
   "id": "d3441b5e",
   "metadata": {
    "scrolled": false
   },
   "outputs": [
    {
     "name": "stdout",
     "output_type": "stream",
     "text": [
      "Epoch 1/50\n"
     ]
    },
    {
     "ename": "InvalidArgumentError",
     "evalue": "Graph execution error:\n\nDetected at node 'model/gcn_conv/Relu' defined at (most recent call last):\n    File \"C:\\Users\\jigar\\AppData\\Local\\Programs\\Python\\Python37\\lib\\runpy.py\", line 193, in _run_module_as_main\n      \"__main__\", mod_spec)\n    File \"C:\\Users\\jigar\\AppData\\Local\\Programs\\Python\\Python37\\lib\\runpy.py\", line 85, in _run_code\n      exec(code, run_globals)\n    File \"C:\\Users\\jigar\\AppData\\Local\\Programs\\Python\\Python37\\lib\\site-packages\\ipykernel_launcher.py\", line 17, in <module>\n      app.launch_new_instance()\n    File \"C:\\Users\\jigar\\AppData\\Local\\Programs\\Python\\Python37\\lib\\site-packages\\traitlets\\config\\application.py\", line 1041, in launch_instance\n      app.start()\n    File \"C:\\Users\\jigar\\AppData\\Local\\Programs\\Python\\Python37\\lib\\site-packages\\ipykernel\\kernelapp.py\", line 712, in start\n      self.io_loop.start()\n    File \"C:\\Users\\jigar\\AppData\\Local\\Programs\\Python\\Python37\\lib\\site-packages\\tornado\\platform\\asyncio.py\", line 215, in start\n      self.asyncio_loop.run_forever()\n    File \"C:\\Users\\jigar\\AppData\\Local\\Programs\\Python\\Python37\\lib\\asyncio\\base_events.py\", line 539, in run_forever\n      self._run_once()\n    File \"C:\\Users\\jigar\\AppData\\Local\\Programs\\Python\\Python37\\lib\\asyncio\\base_events.py\", line 1775, in _run_once\n      handle._run()\n    File \"C:\\Users\\jigar\\AppData\\Local\\Programs\\Python\\Python37\\lib\\asyncio\\events.py\", line 88, in _run\n      self._context.run(self._callback, *self._args)\n    File \"C:\\Users\\jigar\\AppData\\Local\\Programs\\Python\\Python37\\lib\\site-packages\\ipykernel\\kernelbase.py\", line 510, in dispatch_queue\n      await self.process_one()\n    File \"C:\\Users\\jigar\\AppData\\Local\\Programs\\Python\\Python37\\lib\\site-packages\\ipykernel\\kernelbase.py\", line 499, in process_one\n      await dispatch(*args)\n    File \"C:\\Users\\jigar\\AppData\\Local\\Programs\\Python\\Python37\\lib\\site-packages\\ipykernel\\kernelbase.py\", line 406, in dispatch_shell\n      await result\n    File \"C:\\Users\\jigar\\AppData\\Local\\Programs\\Python\\Python37\\lib\\site-packages\\ipykernel\\kernelbase.py\", line 730, in execute_request\n      reply_content = await reply_content\n    File \"C:\\Users\\jigar\\AppData\\Local\\Programs\\Python\\Python37\\lib\\site-packages\\ipykernel\\ipkernel.py\", line 387, in do_execute\n      cell_id=cell_id,\n    File \"C:\\Users\\jigar\\AppData\\Local\\Programs\\Python\\Python37\\lib\\site-packages\\ipykernel\\zmqshell.py\", line 528, in run_cell\n      return super().run_cell(*args, **kwargs)\n    File \"C:\\Users\\jigar\\AppData\\Local\\Programs\\Python\\Python37\\lib\\site-packages\\IPython\\core\\interactiveshell.py\", line 2976, in run_cell\n      raw_cell, store_history, silent, shell_futures, cell_id\n    File \"C:\\Users\\jigar\\AppData\\Local\\Programs\\Python\\Python37\\lib\\site-packages\\IPython\\core\\interactiveshell.py\", line 3030, in _run_cell\n      return runner(coro)\n    File \"C:\\Users\\jigar\\AppData\\Local\\Programs\\Python\\Python37\\lib\\site-packages\\IPython\\core\\async_helpers.py\", line 78, in _pseudo_sync_runner\n      coro.send(None)\n    File \"C:\\Users\\jigar\\AppData\\Local\\Programs\\Python\\Python37\\lib\\site-packages\\IPython\\core\\interactiveshell.py\", line 3258, in run_cell_async\n      interactivity=interactivity, compiler=compiler, result=result)\n    File \"C:\\Users\\jigar\\AppData\\Local\\Programs\\Python\\Python37\\lib\\site-packages\\IPython\\core\\interactiveshell.py\", line 3473, in run_ast_nodes\n      if (await self.run_code(code, result,  async_=asy)):\n    File \"C:\\Users\\jigar\\AppData\\Local\\Programs\\Python\\Python37\\lib\\site-packages\\IPython\\core\\interactiveshell.py\", line 3553, in run_code\n      exec(code_obj, self.user_global_ns, self.user_ns)\n    File \"C:\\Users\\jigar\\AppData\\Local\\Temp\\ipykernel_13856\\527510922.py\", line 7, in <module>\n      callbacks=[early_stopping])\n    File \"C:\\Users\\jigar\\AppData\\Local\\Programs\\Python\\Python37\\lib\\site-packages\\keras\\utils\\traceback_utils.py\", line 65, in error_handler\n      return fn(*args, **kwargs)\n    File \"C:\\Users\\jigar\\AppData\\Local\\Programs\\Python\\Python37\\lib\\site-packages\\keras\\engine\\training.py\", line 1650, in fit\n      tmp_logs = self.train_function(iterator)\n    File \"C:\\Users\\jigar\\AppData\\Local\\Programs\\Python\\Python37\\lib\\site-packages\\keras\\engine\\training.py\", line 1249, in train_function\n      return step_function(self, iterator)\n    File \"C:\\Users\\jigar\\AppData\\Local\\Programs\\Python\\Python37\\lib\\site-packages\\keras\\engine\\training.py\", line 1233, in step_function\n      outputs = model.distribute_strategy.run(run_step, args=(data,))\n    File \"C:\\Users\\jigar\\AppData\\Local\\Programs\\Python\\Python37\\lib\\site-packages\\keras\\engine\\training.py\", line 1222, in run_step\n      outputs = model.train_step(data)\n    File \"C:\\Users\\jigar\\AppData\\Local\\Programs\\Python\\Python37\\lib\\site-packages\\keras\\engine\\training.py\", line 1023, in train_step\n      y_pred = self(x, training=True)\n    File \"C:\\Users\\jigar\\AppData\\Local\\Programs\\Python\\Python37\\lib\\site-packages\\keras\\utils\\traceback_utils.py\", line 65, in error_handler\n      return fn(*args, **kwargs)\n    File \"C:\\Users\\jigar\\AppData\\Local\\Programs\\Python\\Python37\\lib\\site-packages\\keras\\engine\\training.py\", line 561, in __call__\n      return super().__call__(*args, **kwargs)\n    File \"C:\\Users\\jigar\\AppData\\Local\\Programs\\Python\\Python37\\lib\\site-packages\\keras\\utils\\traceback_utils.py\", line 65, in error_handler\n      return fn(*args, **kwargs)\n    File \"C:\\Users\\jigar\\AppData\\Local\\Programs\\Python\\Python37\\lib\\site-packages\\keras\\engine\\base_layer.py\", line 1132, in __call__\n      outputs = call_fn(inputs, *args, **kwargs)\n    File \"C:\\Users\\jigar\\AppData\\Local\\Programs\\Python\\Python37\\lib\\site-packages\\keras\\utils\\traceback_utils.py\", line 96, in error_handler\n      return fn(*args, **kwargs)\n    File \"C:\\Users\\jigar\\AppData\\Local\\Programs\\Python\\Python37\\lib\\site-packages\\keras\\engine\\functional.py\", line 511, in call\n      return self._run_internal_graph(inputs, training=training, mask=mask)\n    File \"C:\\Users\\jigar\\AppData\\Local\\Programs\\Python\\Python37\\lib\\site-packages\\keras\\engine\\functional.py\", line 668, in _run_internal_graph\n      outputs = node.layer(*args, **kwargs)\n    File \"C:\\Users\\jigar\\AppData\\Local\\Programs\\Python\\Python37\\lib\\site-packages\\keras\\utils\\traceback_utils.py\", line 65, in error_handler\n      return fn(*args, **kwargs)\n    File \"C:\\Users\\jigar\\AppData\\Local\\Programs\\Python\\Python37\\lib\\site-packages\\keras\\engine\\base_layer.py\", line 1132, in __call__\n      outputs = call_fn(inputs, *args, **kwargs)\n    File \"C:\\Users\\jigar\\AppData\\Local\\Programs\\Python\\Python37\\lib\\site-packages\\keras\\utils\\traceback_utils.py\", line 96, in error_handler\n      return fn(*args, **kwargs)\n    File \"C:\\Users\\jigar\\AppData\\Local\\Programs\\Python\\Python37\\lib\\site-packages\\spektral\\layers\\convolutional\\conv.py\", line 100, in _inner_check_dtypes\n      f\"of the node features {x.dtype} and has been automatically cast to \"\n    File \"C:\\Users\\jigar\\AppData\\Local\\Programs\\Python\\Python37\\lib\\site-packages\\spektral\\layers\\convolutional\\gcn_conv.py\", line 107, in call\n      output = self.activation(output)\n    File \"C:\\Users\\jigar\\AppData\\Local\\Programs\\Python\\Python37\\lib\\site-packages\\keras\\activations.py\", line 318, in relu\n      x, alpha=alpha, max_value=max_value, threshold=threshold\n    File \"C:\\Users\\jigar\\AppData\\Local\\Programs\\Python\\Python37\\lib\\site-packages\\keras\\backend.py\", line 5369, in relu\n      x = tf.nn.relu(x)\nNode: 'model/gcn_conv/Relu'\nMatrix size-incompatible: In[0]: [64,29], In[1]: [64,29]\n\t [[{{node model/gcn_conv/Relu}}]] [Op:__inference_train_function_1667]",
     "output_type": "error",
     "traceback": [
      "\u001b[1;31m---------------------------------------------------------------------------\u001b[0m",
      "\u001b[1;31mInvalidArgumentError\u001b[0m                      Traceback (most recent call last)",
      "\u001b[1;32m~\\AppData\\Local\\Temp\\ipykernel_13856\\527510922.py\u001b[0m in \u001b[0;36m<module>\u001b[1;34m\u001b[0m\n\u001b[0;32m      5\u001b[0m                     \u001b[0mvalidation_split\u001b[0m\u001b[1;33m=\u001b[0m\u001b[1;36m0.1\u001b[0m\u001b[1;33m,\u001b[0m\u001b[1;33m\u001b[0m\u001b[1;33m\u001b[0m\u001b[0m\n\u001b[0;32m      6\u001b[0m                     \u001b[0mepochs\u001b[0m\u001b[1;33m=\u001b[0m\u001b[1;36m50\u001b[0m\u001b[1;33m,\u001b[0m \u001b[0mbatch_size\u001b[0m\u001b[1;33m=\u001b[0m\u001b[1;36m64\u001b[0m\u001b[1;33m,\u001b[0m\u001b[1;33m\u001b[0m\u001b[1;33m\u001b[0m\u001b[0m\n\u001b[1;32m----> 7\u001b[1;33m                     callbacks=[early_stopping])\n\u001b[0m",
      "\u001b[1;32m~\\AppData\\Local\\Programs\\Python\\Python37\\lib\\site-packages\\keras\\utils\\traceback_utils.py\u001b[0m in \u001b[0;36merror_handler\u001b[1;34m(*args, **kwargs)\u001b[0m\n\u001b[0;32m     68\u001b[0m             \u001b[1;31m# To get the full stack trace, call:\u001b[0m\u001b[1;33m\u001b[0m\u001b[1;33m\u001b[0m\u001b[1;33m\u001b[0m\u001b[0m\n\u001b[0;32m     69\u001b[0m             \u001b[1;31m# `tf.debugging.disable_traceback_filtering()`\u001b[0m\u001b[1;33m\u001b[0m\u001b[1;33m\u001b[0m\u001b[1;33m\u001b[0m\u001b[0m\n\u001b[1;32m---> 70\u001b[1;33m             \u001b[1;32mraise\u001b[0m \u001b[0me\u001b[0m\u001b[1;33m.\u001b[0m\u001b[0mwith_traceback\u001b[0m\u001b[1;33m(\u001b[0m\u001b[0mfiltered_tb\u001b[0m\u001b[1;33m)\u001b[0m \u001b[1;32mfrom\u001b[0m \u001b[1;32mNone\u001b[0m\u001b[1;33m\u001b[0m\u001b[1;33m\u001b[0m\u001b[0m\n\u001b[0m\u001b[0;32m     71\u001b[0m         \u001b[1;32mfinally\u001b[0m\u001b[1;33m:\u001b[0m\u001b[1;33m\u001b[0m\u001b[1;33m\u001b[0m\u001b[0m\n\u001b[0;32m     72\u001b[0m             \u001b[1;32mdel\u001b[0m \u001b[0mfiltered_tb\u001b[0m\u001b[1;33m\u001b[0m\u001b[1;33m\u001b[0m\u001b[0m\n",
      "\u001b[1;32m~\\AppData\\Local\\Programs\\Python\\Python37\\lib\\site-packages\\tensorflow\\python\\eager\\execute.py\u001b[0m in \u001b[0;36mquick_execute\u001b[1;34m(op_name, num_outputs, inputs, attrs, ctx, name)\u001b[0m\n\u001b[0;32m     51\u001b[0m     \u001b[0mctx\u001b[0m\u001b[1;33m.\u001b[0m\u001b[0mensure_initialized\u001b[0m\u001b[1;33m(\u001b[0m\u001b[1;33m)\u001b[0m\u001b[1;33m\u001b[0m\u001b[1;33m\u001b[0m\u001b[0m\n\u001b[0;32m     52\u001b[0m     tensors = pywrap_tfe.TFE_Py_Execute(ctx._handle, device_name, op_name,\n\u001b[1;32m---> 53\u001b[1;33m                                         inputs, attrs, num_outputs)\n\u001b[0m\u001b[0;32m     54\u001b[0m   \u001b[1;32mexcept\u001b[0m \u001b[0mcore\u001b[0m\u001b[1;33m.\u001b[0m\u001b[0m_NotOkStatusException\u001b[0m \u001b[1;32mas\u001b[0m \u001b[0me\u001b[0m\u001b[1;33m:\u001b[0m\u001b[1;33m\u001b[0m\u001b[1;33m\u001b[0m\u001b[0m\n\u001b[0;32m     55\u001b[0m     \u001b[1;32mif\u001b[0m \u001b[0mname\u001b[0m \u001b[1;32mis\u001b[0m \u001b[1;32mnot\u001b[0m \u001b[1;32mNone\u001b[0m\u001b[1;33m:\u001b[0m\u001b[1;33m\u001b[0m\u001b[1;33m\u001b[0m\u001b[0m\n",
      "\u001b[1;31mInvalidArgumentError\u001b[0m: Graph execution error:\n\nDetected at node 'model/gcn_conv/Relu' defined at (most recent call last):\n    File \"C:\\Users\\jigar\\AppData\\Local\\Programs\\Python\\Python37\\lib\\runpy.py\", line 193, in _run_module_as_main\n      \"__main__\", mod_spec)\n    File \"C:\\Users\\jigar\\AppData\\Local\\Programs\\Python\\Python37\\lib\\runpy.py\", line 85, in _run_code\n      exec(code, run_globals)\n    File \"C:\\Users\\jigar\\AppData\\Local\\Programs\\Python\\Python37\\lib\\site-packages\\ipykernel_launcher.py\", line 17, in <module>\n      app.launch_new_instance()\n    File \"C:\\Users\\jigar\\AppData\\Local\\Programs\\Python\\Python37\\lib\\site-packages\\traitlets\\config\\application.py\", line 1041, in launch_instance\n      app.start()\n    File \"C:\\Users\\jigar\\AppData\\Local\\Programs\\Python\\Python37\\lib\\site-packages\\ipykernel\\kernelapp.py\", line 712, in start\n      self.io_loop.start()\n    File \"C:\\Users\\jigar\\AppData\\Local\\Programs\\Python\\Python37\\lib\\site-packages\\tornado\\platform\\asyncio.py\", line 215, in start\n      self.asyncio_loop.run_forever()\n    File \"C:\\Users\\jigar\\AppData\\Local\\Programs\\Python\\Python37\\lib\\asyncio\\base_events.py\", line 539, in run_forever\n      self._run_once()\n    File \"C:\\Users\\jigar\\AppData\\Local\\Programs\\Python\\Python37\\lib\\asyncio\\base_events.py\", line 1775, in _run_once\n      handle._run()\n    File \"C:\\Users\\jigar\\AppData\\Local\\Programs\\Python\\Python37\\lib\\asyncio\\events.py\", line 88, in _run\n      self._context.run(self._callback, *self._args)\n    File \"C:\\Users\\jigar\\AppData\\Local\\Programs\\Python\\Python37\\lib\\site-packages\\ipykernel\\kernelbase.py\", line 510, in dispatch_queue\n      await self.process_one()\n    File \"C:\\Users\\jigar\\AppData\\Local\\Programs\\Python\\Python37\\lib\\site-packages\\ipykernel\\kernelbase.py\", line 499, in process_one\n      await dispatch(*args)\n    File \"C:\\Users\\jigar\\AppData\\Local\\Programs\\Python\\Python37\\lib\\site-packages\\ipykernel\\kernelbase.py\", line 406, in dispatch_shell\n      await result\n    File \"C:\\Users\\jigar\\AppData\\Local\\Programs\\Python\\Python37\\lib\\site-packages\\ipykernel\\kernelbase.py\", line 730, in execute_request\n      reply_content = await reply_content\n    File \"C:\\Users\\jigar\\AppData\\Local\\Programs\\Python\\Python37\\lib\\site-packages\\ipykernel\\ipkernel.py\", line 387, in do_execute\n      cell_id=cell_id,\n    File \"C:\\Users\\jigar\\AppData\\Local\\Programs\\Python\\Python37\\lib\\site-packages\\ipykernel\\zmqshell.py\", line 528, in run_cell\n      return super().run_cell(*args, **kwargs)\n    File \"C:\\Users\\jigar\\AppData\\Local\\Programs\\Python\\Python37\\lib\\site-packages\\IPython\\core\\interactiveshell.py\", line 2976, in run_cell\n      raw_cell, store_history, silent, shell_futures, cell_id\n    File \"C:\\Users\\jigar\\AppData\\Local\\Programs\\Python\\Python37\\lib\\site-packages\\IPython\\core\\interactiveshell.py\", line 3030, in _run_cell\n      return runner(coro)\n    File \"C:\\Users\\jigar\\AppData\\Local\\Programs\\Python\\Python37\\lib\\site-packages\\IPython\\core\\async_helpers.py\", line 78, in _pseudo_sync_runner\n      coro.send(None)\n    File \"C:\\Users\\jigar\\AppData\\Local\\Programs\\Python\\Python37\\lib\\site-packages\\IPython\\core\\interactiveshell.py\", line 3258, in run_cell_async\n      interactivity=interactivity, compiler=compiler, result=result)\n    File \"C:\\Users\\jigar\\AppData\\Local\\Programs\\Python\\Python37\\lib\\site-packages\\IPython\\core\\interactiveshell.py\", line 3473, in run_ast_nodes\n      if (await self.run_code(code, result,  async_=asy)):\n    File \"C:\\Users\\jigar\\AppData\\Local\\Programs\\Python\\Python37\\lib\\site-packages\\IPython\\core\\interactiveshell.py\", line 3553, in run_code\n      exec(code_obj, self.user_global_ns, self.user_ns)\n    File \"C:\\Users\\jigar\\AppData\\Local\\Temp\\ipykernel_13856\\527510922.py\", line 7, in <module>\n      callbacks=[early_stopping])\n    File \"C:\\Users\\jigar\\AppData\\Local\\Programs\\Python\\Python37\\lib\\site-packages\\keras\\utils\\traceback_utils.py\", line 65, in error_handler\n      return fn(*args, **kwargs)\n    File \"C:\\Users\\jigar\\AppData\\Local\\Programs\\Python\\Python37\\lib\\site-packages\\keras\\engine\\training.py\", line 1650, in fit\n      tmp_logs = self.train_function(iterator)\n    File \"C:\\Users\\jigar\\AppData\\Local\\Programs\\Python\\Python37\\lib\\site-packages\\keras\\engine\\training.py\", line 1249, in train_function\n      return step_function(self, iterator)\n    File \"C:\\Users\\jigar\\AppData\\Local\\Programs\\Python\\Python37\\lib\\site-packages\\keras\\engine\\training.py\", line 1233, in step_function\n      outputs = model.distribute_strategy.run(run_step, args=(data,))\n    File \"C:\\Users\\jigar\\AppData\\Local\\Programs\\Python\\Python37\\lib\\site-packages\\keras\\engine\\training.py\", line 1222, in run_step\n      outputs = model.train_step(data)\n    File \"C:\\Users\\jigar\\AppData\\Local\\Programs\\Python\\Python37\\lib\\site-packages\\keras\\engine\\training.py\", line 1023, in train_step\n      y_pred = self(x, training=True)\n    File \"C:\\Users\\jigar\\AppData\\Local\\Programs\\Python\\Python37\\lib\\site-packages\\keras\\utils\\traceback_utils.py\", line 65, in error_handler\n      return fn(*args, **kwargs)\n    File \"C:\\Users\\jigar\\AppData\\Local\\Programs\\Python\\Python37\\lib\\site-packages\\keras\\engine\\training.py\", line 561, in __call__\n      return super().__call__(*args, **kwargs)\n    File \"C:\\Users\\jigar\\AppData\\Local\\Programs\\Python\\Python37\\lib\\site-packages\\keras\\utils\\traceback_utils.py\", line 65, in error_handler\n      return fn(*args, **kwargs)\n    File \"C:\\Users\\jigar\\AppData\\Local\\Programs\\Python\\Python37\\lib\\site-packages\\keras\\engine\\base_layer.py\", line 1132, in __call__\n      outputs = call_fn(inputs, *args, **kwargs)\n    File \"C:\\Users\\jigar\\AppData\\Local\\Programs\\Python\\Python37\\lib\\site-packages\\keras\\utils\\traceback_utils.py\", line 96, in error_handler\n      return fn(*args, **kwargs)\n    File \"C:\\Users\\jigar\\AppData\\Local\\Programs\\Python\\Python37\\lib\\site-packages\\keras\\engine\\functional.py\", line 511, in call\n      return self._run_internal_graph(inputs, training=training, mask=mask)\n    File \"C:\\Users\\jigar\\AppData\\Local\\Programs\\Python\\Python37\\lib\\site-packages\\keras\\engine\\functional.py\", line 668, in _run_internal_graph\n      outputs = node.layer(*args, **kwargs)\n    File \"C:\\Users\\jigar\\AppData\\Local\\Programs\\Python\\Python37\\lib\\site-packages\\keras\\utils\\traceback_utils.py\", line 65, in error_handler\n      return fn(*args, **kwargs)\n    File \"C:\\Users\\jigar\\AppData\\Local\\Programs\\Python\\Python37\\lib\\site-packages\\keras\\engine\\base_layer.py\", line 1132, in __call__\n      outputs = call_fn(inputs, *args, **kwargs)\n    File \"C:\\Users\\jigar\\AppData\\Local\\Programs\\Python\\Python37\\lib\\site-packages\\keras\\utils\\traceback_utils.py\", line 96, in error_handler\n      return fn(*args, **kwargs)\n    File \"C:\\Users\\jigar\\AppData\\Local\\Programs\\Python\\Python37\\lib\\site-packages\\spektral\\layers\\convolutional\\conv.py\", line 100, in _inner_check_dtypes\n      f\"of the node features {x.dtype} and has been automatically cast to \"\n    File \"C:\\Users\\jigar\\AppData\\Local\\Programs\\Python\\Python37\\lib\\site-packages\\spektral\\layers\\convolutional\\gcn_conv.py\", line 107, in call\n      output = self.activation(output)\n    File \"C:\\Users\\jigar\\AppData\\Local\\Programs\\Python\\Python37\\lib\\site-packages\\keras\\activations.py\", line 318, in relu\n      x, alpha=alpha, max_value=max_value, threshold=threshold\n    File \"C:\\Users\\jigar\\AppData\\Local\\Programs\\Python\\Python37\\lib\\site-packages\\keras\\backend.py\", line 5369, in relu\n      x = tf.nn.relu(x)\nNode: 'model/gcn_conv/Relu'\nMatrix size-incompatible: In[0]: [64,29], In[1]: [64,29]\n\t [[{{node model/gcn_conv/Relu}}]] [Op:__inference_train_function_1667]"
     ]
    }
   ],
   "source": [
    "early_stopping = EarlyStopping(monitor='val_loss', patience=10)\n",
    "train_data = X_train.reshape((-1,29))\n",
    "A_train = A_train.reshape((-1, 29))\n",
    "history = model.fit([X_train, A_train], y_train,\n",
    "                    validation_split=0.1,\n",
    "                    epochs=50, batch_size=64,\n",
    "                    callbacks=[early_stopping])"
   ]
  },
  {
   "cell_type": "code",
   "execution_count": null,
   "id": "1b984871",
   "metadata": {},
   "outputs": [],
   "source": []
  },
  {
   "cell_type": "code",
   "execution_count": null,
   "id": "51fee37a",
   "metadata": {},
   "outputs": [],
   "source": []
  }
 ],
 "metadata": {
  "kernelspec": {
   "display_name": "Python 3 (ipykernel)",
   "language": "python",
   "name": "python3"
  },
  "language_info": {
   "codemirror_mode": {
    "name": "ipython",
    "version": 3
   },
   "file_extension": ".py",
   "mimetype": "text/x-python",
   "name": "python",
   "nbconvert_exporter": "python",
   "pygments_lexer": "ipython3",
   "version": "3.7.2"
  }
 },
 "nbformat": 4,
 "nbformat_minor": 5
}
